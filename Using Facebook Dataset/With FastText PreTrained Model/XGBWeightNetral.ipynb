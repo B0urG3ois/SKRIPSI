{
 "cells": [
  {
   "cell_type": "code",
   "execution_count": 1,
   "metadata": {
    "colab": {},
    "colab_type": "code",
    "id": "RxGUBEEZC8zH"
   },
   "outputs": [],
   "source": [
    "import spacy\n",
    "nlp = spacy.blank('id')\n",
    "import gensim\n",
    "import pandas as pd\n",
    "import nltk\n",
    "import numpy as np\n",
    "from sklearn import preprocessing"
   ]
  },
  {
   "cell_type": "code",
   "execution_count": 2,
   "metadata": {
    "colab": {
     "base_uri": "https://localhost:8080/",
     "height": 397
    },
    "colab_type": "code",
    "executionInfo": {
     "elapsed": 23253,
     "status": "ok",
     "timestamp": 1587041213788,
     "user": {
      "displayName": "EGA PAMUNGKAS SUSANTO . (00000019178)",
      "photoUrl": "https://lh3.googleusercontent.com/a-/AOh14Gh9ZDbqciFyFK-ZMwKyEh3NUNVhzJh5ZFQxLQIQ=s64",
      "userId": "05299055555202443211"
     },
     "user_tz": -420
    },
    "id": "l0UrFp5MC-61",
    "outputId": "f529bd1f-d6ad-4a4c-a28e-0a03443373b1"
   },
   "outputs": [
    {
     "data": {
      "text/html": [
       "<div>\n",
       "<style scoped>\n",
       "    .dataframe tbody tr th:only-of-type {\n",
       "        vertical-align: middle;\n",
       "    }\n",
       "\n",
       "    .dataframe tbody tr th {\n",
       "        vertical-align: top;\n",
       "    }\n",
       "\n",
       "    .dataframe thead th {\n",
       "        text-align: right;\n",
       "    }\n",
       "</style>\n",
       "<table border=\"1\" class=\"dataframe\">\n",
       "  <thead>\n",
       "    <tr style=\"text-align: right;\">\n",
       "      <th></th>\n",
       "      <th>id_pembuat</th>\n",
       "      <th>id_status</th>\n",
       "      <th>nama_pembuat</th>\n",
       "      <th>teks_status</th>\n",
       "      <th>gambar_status</th>\n",
       "      <th>url_komentar</th>\n",
       "      <th>waktu_status</th>\n",
       "      <th>id_komentar</th>\n",
       "      <th>id_user_komen</th>\n",
       "      <th>komentar</th>\n",
       "      <th>waktu_komen</th>\n",
       "      <th>label</th>\n",
       "    </tr>\n",
       "  </thead>\n",
       "  <tbody>\n",
       "    <tr>\n",
       "      <th>0</th>\n",
       "      <td>23383061178</td>\n",
       "      <td>23383061178_10152076252911179</td>\n",
       "      <td>Bang Nafie</td>\n",
       "      <td>Saya banyak belajar prinsip-prinsip kehidupan ...</td>\n",
       "      <td>https://fbexternal-a.akamaihd.net/safe_image.p...</td>\n",
       "      <td>https://www.facebook.com/23383061178/posts/101...</td>\n",
       "      <td>2014-06-05 03:54:47</td>\n",
       "      <td>10152076252516179_10152076253441179</td>\n",
       "      <td>794948677210695</td>\n",
       "      <td>Oke pak boss!!</td>\n",
       "      <td>2014-06-05 03:55:15</td>\n",
       "      <td>positif</td>\n",
       "    </tr>\n",
       "    <tr>\n",
       "      <th>1</th>\n",
       "      <td>23383061178</td>\n",
       "      <td>23383061178_10152076252911179</td>\n",
       "      <td>Sumy Kakasyi Suhaimy</td>\n",
       "      <td>Saya banyak belajar prinsip-prinsip kehidupan ...</td>\n",
       "      <td>https://fbexternal-a.akamaihd.net/safe_image.p...</td>\n",
       "      <td>https://www.facebook.com/23383061178/posts/101...</td>\n",
       "      <td>2014-06-05 03:54:47</td>\n",
       "      <td>10152076252516179_10152076253906179</td>\n",
       "      <td>355122887988412</td>\n",
       "      <td>Jangan dusta</td>\n",
       "      <td>2014-06-05 03:55:29</td>\n",
       "      <td>negatif</td>\n",
       "    </tr>\n",
       "    <tr>\n",
       "      <th>2</th>\n",
       "      <td>23383061178</td>\n",
       "      <td>23383061178_10152076252911179</td>\n",
       "      <td>Roberto Red</td>\n",
       "      <td>Saya banyak belajar prinsip-prinsip kehidupan ...</td>\n",
       "      <td>https://fbexternal-a.akamaihd.net/safe_image.p...</td>\n",
       "      <td>https://www.facebook.com/23383061178/posts/101...</td>\n",
       "      <td>2014-06-05 03:54:47</td>\n",
       "      <td>10152076252516179_10152076253996179</td>\n",
       "      <td>297825977080553</td>\n",
       "      <td>PROBOWO is the WINNER of PEMILU 2014</td>\n",
       "      <td>2014-06-05 03:55:32</td>\n",
       "      <td>positif</td>\n",
       "    </tr>\n",
       "    <tr>\n",
       "      <th>3</th>\n",
       "      <td>23383061178</td>\n",
       "      <td>23383061178_10152076252911179</td>\n",
       "      <td>Sugiarman Arman</td>\n",
       "      <td>Saya banyak belajar prinsip-prinsip kehidupan ...</td>\n",
       "      <td>https://fbexternal-a.akamaihd.net/safe_image.p...</td>\n",
       "      <td>https://www.facebook.com/23383061178/posts/101...</td>\n",
       "      <td>2014-06-05 03:54:47</td>\n",
       "      <td>10152076252516179_10152076254066179</td>\n",
       "      <td>298708870333739</td>\n",
       "      <td>ilmu padi</td>\n",
       "      <td>2014-06-05 03:55:35</td>\n",
       "      <td>netral</td>\n",
       "    </tr>\n",
       "    <tr>\n",
       "      <th>4</th>\n",
       "      <td>23383061178</td>\n",
       "      <td>23383061178_10152076252911179</td>\n",
       "      <td>Rio Corps Taruna</td>\n",
       "      <td>Saya banyak belajar prinsip-prinsip kehidupan ...</td>\n",
       "      <td>https://fbexternal-a.akamaihd.net/safe_image.p...</td>\n",
       "      <td>https://www.facebook.com/23383061178/posts/101...</td>\n",
       "      <td>2014-06-05 03:54:47</td>\n",
       "      <td>10152076252516179_10152076254216179</td>\n",
       "      <td>1523715244533780</td>\n",
       "      <td>Hidup Pak Prabowo ..</td>\n",
       "      <td>2014-06-05 03:55:42</td>\n",
       "      <td>positif</td>\n",
       "    </tr>\n",
       "  </tbody>\n",
       "</table>\n",
       "</div>"
      ],
      "text/plain": [
       "    id_pembuat                      id_status          nama_pembuat  \\\n",
       "0  23383061178  23383061178_10152076252911179            Bang Nafie   \n",
       "1  23383061178  23383061178_10152076252911179  Sumy Kakasyi Suhaimy   \n",
       "2  23383061178  23383061178_10152076252911179           Roberto Red   \n",
       "3  23383061178  23383061178_10152076252911179       Sugiarman Arman   \n",
       "4  23383061178  23383061178_10152076252911179      Rio Corps Taruna   \n",
       "\n",
       "                                         teks_status  \\\n",
       "0  Saya banyak belajar prinsip-prinsip kehidupan ...   \n",
       "1  Saya banyak belajar prinsip-prinsip kehidupan ...   \n",
       "2  Saya banyak belajar prinsip-prinsip kehidupan ...   \n",
       "3  Saya banyak belajar prinsip-prinsip kehidupan ...   \n",
       "4  Saya banyak belajar prinsip-prinsip kehidupan ...   \n",
       "\n",
       "                                       gambar_status  \\\n",
       "0  https://fbexternal-a.akamaihd.net/safe_image.p...   \n",
       "1  https://fbexternal-a.akamaihd.net/safe_image.p...   \n",
       "2  https://fbexternal-a.akamaihd.net/safe_image.p...   \n",
       "3  https://fbexternal-a.akamaihd.net/safe_image.p...   \n",
       "4  https://fbexternal-a.akamaihd.net/safe_image.p...   \n",
       "\n",
       "                                        url_komentar        waktu_status  \\\n",
       "0  https://www.facebook.com/23383061178/posts/101... 2014-06-05 03:54:47   \n",
       "1  https://www.facebook.com/23383061178/posts/101... 2014-06-05 03:54:47   \n",
       "2  https://www.facebook.com/23383061178/posts/101... 2014-06-05 03:54:47   \n",
       "3  https://www.facebook.com/23383061178/posts/101... 2014-06-05 03:54:47   \n",
       "4  https://www.facebook.com/23383061178/posts/101... 2014-06-05 03:54:47   \n",
       "\n",
       "                           id_komentar     id_user_komen  \\\n",
       "0  10152076252516179_10152076253441179   794948677210695   \n",
       "1  10152076252516179_10152076253906179   355122887988412   \n",
       "2  10152076252516179_10152076253996179   297825977080553   \n",
       "3  10152076252516179_10152076254066179   298708870333739   \n",
       "4  10152076252516179_10152076254216179  1523715244533780   \n",
       "\n",
       "                               komentar         waktu_komen    label  \n",
       "0                        Oke pak boss!! 2014-06-05 03:55:15  positif  \n",
       "1                          Jangan dusta 2014-06-05 03:55:29  negatif  \n",
       "2  PROBOWO is the WINNER of PEMILU 2014 2014-06-05 03:55:32  positif  \n",
       "3                             ilmu padi 2014-06-05 03:55:35   netral  \n",
       "4                  Hidup Pak Prabowo .. 2014-06-05 03:55:42  positif  "
      ]
     },
     "execution_count": 2,
     "metadata": {},
     "output_type": "execute_result"
    }
   ],
   "source": [
    "df = pd.read_excel(\"pemilu.xlsx\")\n",
    "df.head()"
   ]
  },
  {
   "cell_type": "code",
   "execution_count": 3,
   "metadata": {
    "colab": {
     "base_uri": "https://localhost:8080/",
     "height": 1000
    },
    "colab_type": "code",
    "executionInfo": {
     "elapsed": 24839,
     "status": "ok",
     "timestamp": 1587041215382,
     "user": {
      "displayName": "EGA PAMUNGKAS SUSANTO . (00000019178)",
      "photoUrl": "https://lh3.googleusercontent.com/a-/AOh14Gh9ZDbqciFyFK-ZMwKyEh3NUNVhzJh5ZFQxLQIQ=s64",
      "userId": "05299055555202443211"
     },
     "user_tz": -420
    },
    "id": "dgVrFpvsDNJo",
    "outputId": "3c2ef7bf-e45a-438c-f54b-9fa717e4c63c"
   },
   "outputs": [
    {
     "name": "stderr",
     "output_type": "stream",
     "text": [
      "[nltk_data] Downloading package punkt to\n",
      "[nltk_data]     C:\\Users\\egapa\\AppData\\Roaming\\nltk_data...\n",
      "[nltk_data]   Package punkt is already up-to-date!\n"
     ]
    },
    {
     "data": {
      "text/html": [
       "<div>\n",
       "<style scoped>\n",
       "    .dataframe tbody tr th:only-of-type {\n",
       "        vertical-align: middle;\n",
       "    }\n",
       "\n",
       "    .dataframe tbody tr th {\n",
       "        vertical-align: top;\n",
       "    }\n",
       "\n",
       "    .dataframe thead th {\n",
       "        text-align: right;\n",
       "    }\n",
       "</style>\n",
       "<table border=\"1\" class=\"dataframe\">\n",
       "  <thead>\n",
       "    <tr style=\"text-align: right;\">\n",
       "      <th></th>\n",
       "      <th>id_pembuat</th>\n",
       "      <th>id_status</th>\n",
       "      <th>nama_pembuat</th>\n",
       "      <th>teks_status</th>\n",
       "      <th>gambar_status</th>\n",
       "      <th>url_komentar</th>\n",
       "      <th>waktu_status</th>\n",
       "      <th>id_komentar</th>\n",
       "      <th>id_user_komen</th>\n",
       "      <th>komentar</th>\n",
       "      <th>waktu_komen</th>\n",
       "      <th>label</th>\n",
       "    </tr>\n",
       "  </thead>\n",
       "  <tbody>\n",
       "    <tr>\n",
       "      <th>0</th>\n",
       "      <td>23383061178</td>\n",
       "      <td>23383061178_10152076252911179</td>\n",
       "      <td>Bang Nafie</td>\n",
       "      <td>Saya banyak belajar prinsip-prinsip kehidupan ...</td>\n",
       "      <td>https://fbexternal-a.akamaihd.net/safe_image.p...</td>\n",
       "      <td>https://www.facebook.com/23383061178/posts/101...</td>\n",
       "      <td>2014-06-05 03:54:47</td>\n",
       "      <td>10152076252516179_10152076253441179</td>\n",
       "      <td>794948677210695</td>\n",
       "      <td>[oke, pak, boss]</td>\n",
       "      <td>2014-06-05 03:55:15</td>\n",
       "      <td>positif</td>\n",
       "    </tr>\n",
       "    <tr>\n",
       "      <th>1</th>\n",
       "      <td>23383061178</td>\n",
       "      <td>23383061178_10152076252911179</td>\n",
       "      <td>Sumy Kakasyi Suhaimy</td>\n",
       "      <td>Saya banyak belajar prinsip-prinsip kehidupan ...</td>\n",
       "      <td>https://fbexternal-a.akamaihd.net/safe_image.p...</td>\n",
       "      <td>https://www.facebook.com/23383061178/posts/101...</td>\n",
       "      <td>2014-06-05 03:54:47</td>\n",
       "      <td>10152076252516179_10152076253906179</td>\n",
       "      <td>355122887988412</td>\n",
       "      <td>[jangan, dusta]</td>\n",
       "      <td>2014-06-05 03:55:29</td>\n",
       "      <td>negatif</td>\n",
       "    </tr>\n",
       "    <tr>\n",
       "      <th>2</th>\n",
       "      <td>23383061178</td>\n",
       "      <td>23383061178_10152076252911179</td>\n",
       "      <td>Roberto Red</td>\n",
       "      <td>Saya banyak belajar prinsip-prinsip kehidupan ...</td>\n",
       "      <td>https://fbexternal-a.akamaihd.net/safe_image.p...</td>\n",
       "      <td>https://www.facebook.com/23383061178/posts/101...</td>\n",
       "      <td>2014-06-05 03:54:47</td>\n",
       "      <td>10152076252516179_10152076253996179</td>\n",
       "      <td>297825977080553</td>\n",
       "      <td>[probowo, is, the, winner, of, pemilu]</td>\n",
       "      <td>2014-06-05 03:55:32</td>\n",
       "      <td>positif</td>\n",
       "    </tr>\n",
       "    <tr>\n",
       "      <th>3</th>\n",
       "      <td>23383061178</td>\n",
       "      <td>23383061178_10152076252911179</td>\n",
       "      <td>Sugiarman Arman</td>\n",
       "      <td>Saya banyak belajar prinsip-prinsip kehidupan ...</td>\n",
       "      <td>https://fbexternal-a.akamaihd.net/safe_image.p...</td>\n",
       "      <td>https://www.facebook.com/23383061178/posts/101...</td>\n",
       "      <td>2014-06-05 03:54:47</td>\n",
       "      <td>10152076252516179_10152076254066179</td>\n",
       "      <td>298708870333739</td>\n",
       "      <td>[ilmu, padi]</td>\n",
       "      <td>2014-06-05 03:55:35</td>\n",
       "      <td>netral</td>\n",
       "    </tr>\n",
       "    <tr>\n",
       "      <th>4</th>\n",
       "      <td>23383061178</td>\n",
       "      <td>23383061178_10152076252911179</td>\n",
       "      <td>Rio Corps Taruna</td>\n",
       "      <td>Saya banyak belajar prinsip-prinsip kehidupan ...</td>\n",
       "      <td>https://fbexternal-a.akamaihd.net/safe_image.p...</td>\n",
       "      <td>https://www.facebook.com/23383061178/posts/101...</td>\n",
       "      <td>2014-06-05 03:54:47</td>\n",
       "      <td>10152076252516179_10152076254216179</td>\n",
       "      <td>1523715244533780</td>\n",
       "      <td>[hidup, pak, prabowo]</td>\n",
       "      <td>2014-06-05 03:55:42</td>\n",
       "      <td>positif</td>\n",
       "    </tr>\n",
       "    <tr>\n",
       "      <th>...</th>\n",
       "      <td>...</td>\n",
       "      <td>...</td>\n",
       "      <td>...</td>\n",
       "      <td>...</td>\n",
       "      <td>...</td>\n",
       "      <td>...</td>\n",
       "      <td>...</td>\n",
       "      <td>...</td>\n",
       "      <td>...</td>\n",
       "      <td>...</td>\n",
       "      <td>...</td>\n",
       "      <td>...</td>\n",
       "    </tr>\n",
       "    <tr>\n",
       "      <th>3359</th>\n",
       "      <td>249750628565406</td>\n",
       "      <td>249750628565406_276917339182068</td>\n",
       "      <td>Anita Rizkia</td>\n",
       "      <td>Dukungan anda semua adalah amanah, dan apapun ...</td>\n",
       "      <td>https://fbexternal-a.akamaihd.net/safe_image.p...</td>\n",
       "      <td>https://www.facebook.com/249750628565406/posts...</td>\n",
       "      <td>2014-07-09 03:19:51</td>\n",
       "      <td>276891429184659_276927652514370</td>\n",
       "      <td>967613349931842</td>\n",
       "      <td>[salam, jari]</td>\n",
       "      <td>2014-07-09 03:25:45</td>\n",
       "      <td>positif</td>\n",
       "    </tr>\n",
       "    <tr>\n",
       "      <th>3360</th>\n",
       "      <td>249750628565406</td>\n",
       "      <td>249750628565406_276917339182068</td>\n",
       "      <td>Ari Bin Abu Bakar</td>\n",
       "      <td>Dukungan anda semua adalah amanah, dan apapun ...</td>\n",
       "      <td>https://fbexternal-a.akamaihd.net/safe_image.p...</td>\n",
       "      <td>https://www.facebook.com/249750628565406/posts...</td>\n",
       "      <td>2014-07-09 03:19:51</td>\n",
       "      <td>276891429184659_276918865848582</td>\n",
       "      <td>773356856051191</td>\n",
       "      <td>[jujur, ketika, ane, membuka, surat, suara, ta...</td>\n",
       "      <td>2014-07-09 03:21:40</td>\n",
       "      <td>negatif</td>\n",
       "    </tr>\n",
       "    <tr>\n",
       "      <th>3361</th>\n",
       "      <td>249750628565406</td>\n",
       "      <td>249750628565406_276917339182068</td>\n",
       "      <td>Agek James</td>\n",
       "      <td>Dukungan anda semua adalah amanah, dan apapun ...</td>\n",
       "      <td>https://fbexternal-a.akamaihd.net/safe_image.p...</td>\n",
       "      <td>https://www.facebook.com/249750628565406/posts...</td>\n",
       "      <td>2014-07-09 03:19:51</td>\n",
       "      <td>276891429184659_276921042515031</td>\n",
       "      <td>710343512387954</td>\n",
       "      <td>[bapak, jokowi, kami, semua, rakyat, ingin, ba...</td>\n",
       "      <td>2014-07-09 03:24:02</td>\n",
       "      <td>positif</td>\n",
       "    </tr>\n",
       "    <tr>\n",
       "      <th>3362</th>\n",
       "      <td>249750628565406</td>\n",
       "      <td>249750628565406_276917339182068</td>\n",
       "      <td>ChairudinDr Humaniora</td>\n",
       "      <td>Dukungan anda semua adalah amanah, dan apapun ...</td>\n",
       "      <td>https://fbexternal-a.akamaihd.net/safe_image.p...</td>\n",
       "      <td>https://www.facebook.com/249750628565406/posts...</td>\n",
       "      <td>2014-07-09 03:19:51</td>\n",
       "      <td>276891429184659_276931322514003</td>\n",
       "      <td>10152763210314600</td>\n",
       "      <td>[tanda, alam, pemilu, day, on, juli, hasil, je...</td>\n",
       "      <td>2014-07-09 03:26:36</td>\n",
       "      <td>positif</td>\n",
       "    </tr>\n",
       "    <tr>\n",
       "      <th>3363</th>\n",
       "      <td>249750628565406</td>\n",
       "      <td>249750628565406_276917339182068</td>\n",
       "      <td>Wahyu Setyo Nugroho</td>\n",
       "      <td>Dukungan anda semua adalah amanah, dan apapun ...</td>\n",
       "      <td>https://fbexternal-a.akamaihd.net/safe_image.p...</td>\n",
       "      <td>https://www.facebook.com/249750628565406/posts...</td>\n",
       "      <td>2014-07-09 03:19:51</td>\n",
       "      <td>276891429184659_276918872515248</td>\n",
       "      <td>830713220314118</td>\n",
       "      <td>[dosa, dosa, prabowo, admin, tolak, lupa, mari...</td>\n",
       "      <td>2014-07-09 03:21:40</td>\n",
       "      <td>positif</td>\n",
       "    </tr>\n",
       "  </tbody>\n",
       "</table>\n",
       "<p>3364 rows × 12 columns</p>\n",
       "</div>"
      ],
      "text/plain": [
       "           id_pembuat                        id_status           nama_pembuat  \\\n",
       "0         23383061178    23383061178_10152076252911179             Bang Nafie   \n",
       "1         23383061178    23383061178_10152076252911179   Sumy Kakasyi Suhaimy   \n",
       "2         23383061178    23383061178_10152076252911179            Roberto Red   \n",
       "3         23383061178    23383061178_10152076252911179        Sugiarman Arman   \n",
       "4         23383061178    23383061178_10152076252911179       Rio Corps Taruna   \n",
       "...               ...                              ...                    ...   \n",
       "3359  249750628565406  249750628565406_276917339182068           Anita Rizkia   \n",
       "3360  249750628565406  249750628565406_276917339182068      Ari Bin Abu Bakar   \n",
       "3361  249750628565406  249750628565406_276917339182068             Agek James   \n",
       "3362  249750628565406  249750628565406_276917339182068  ChairudinDr Humaniora   \n",
       "3363  249750628565406  249750628565406_276917339182068    Wahyu Setyo Nugroho   \n",
       "\n",
       "                                            teks_status  \\\n",
       "0     Saya banyak belajar prinsip-prinsip kehidupan ...   \n",
       "1     Saya banyak belajar prinsip-prinsip kehidupan ...   \n",
       "2     Saya banyak belajar prinsip-prinsip kehidupan ...   \n",
       "3     Saya banyak belajar prinsip-prinsip kehidupan ...   \n",
       "4     Saya banyak belajar prinsip-prinsip kehidupan ...   \n",
       "...                                                 ...   \n",
       "3359  Dukungan anda semua adalah amanah, dan apapun ...   \n",
       "3360  Dukungan anda semua adalah amanah, dan apapun ...   \n",
       "3361  Dukungan anda semua adalah amanah, dan apapun ...   \n",
       "3362  Dukungan anda semua adalah amanah, dan apapun ...   \n",
       "3363  Dukungan anda semua adalah amanah, dan apapun ...   \n",
       "\n",
       "                                          gambar_status  \\\n",
       "0     https://fbexternal-a.akamaihd.net/safe_image.p...   \n",
       "1     https://fbexternal-a.akamaihd.net/safe_image.p...   \n",
       "2     https://fbexternal-a.akamaihd.net/safe_image.p...   \n",
       "3     https://fbexternal-a.akamaihd.net/safe_image.p...   \n",
       "4     https://fbexternal-a.akamaihd.net/safe_image.p...   \n",
       "...                                                 ...   \n",
       "3359  https://fbexternal-a.akamaihd.net/safe_image.p...   \n",
       "3360  https://fbexternal-a.akamaihd.net/safe_image.p...   \n",
       "3361  https://fbexternal-a.akamaihd.net/safe_image.p...   \n",
       "3362  https://fbexternal-a.akamaihd.net/safe_image.p...   \n",
       "3363  https://fbexternal-a.akamaihd.net/safe_image.p...   \n",
       "\n",
       "                                           url_komentar        waktu_status  \\\n",
       "0     https://www.facebook.com/23383061178/posts/101... 2014-06-05 03:54:47   \n",
       "1     https://www.facebook.com/23383061178/posts/101... 2014-06-05 03:54:47   \n",
       "2     https://www.facebook.com/23383061178/posts/101... 2014-06-05 03:54:47   \n",
       "3     https://www.facebook.com/23383061178/posts/101... 2014-06-05 03:54:47   \n",
       "4     https://www.facebook.com/23383061178/posts/101... 2014-06-05 03:54:47   \n",
       "...                                                 ...                 ...   \n",
       "3359  https://www.facebook.com/249750628565406/posts... 2014-07-09 03:19:51   \n",
       "3360  https://www.facebook.com/249750628565406/posts... 2014-07-09 03:19:51   \n",
       "3361  https://www.facebook.com/249750628565406/posts... 2014-07-09 03:19:51   \n",
       "3362  https://www.facebook.com/249750628565406/posts... 2014-07-09 03:19:51   \n",
       "3363  https://www.facebook.com/249750628565406/posts... 2014-07-09 03:19:51   \n",
       "\n",
       "                              id_komentar      id_user_komen  \\\n",
       "0     10152076252516179_10152076253441179    794948677210695   \n",
       "1     10152076252516179_10152076253906179    355122887988412   \n",
       "2     10152076252516179_10152076253996179    297825977080553   \n",
       "3     10152076252516179_10152076254066179    298708870333739   \n",
       "4     10152076252516179_10152076254216179   1523715244533780   \n",
       "...                                   ...                ...   \n",
       "3359      276891429184659_276927652514370    967613349931842   \n",
       "3360      276891429184659_276918865848582    773356856051191   \n",
       "3361      276891429184659_276921042515031    710343512387954   \n",
       "3362      276891429184659_276931322514003  10152763210314600   \n",
       "3363      276891429184659_276918872515248    830713220314118   \n",
       "\n",
       "                                               komentar         waktu_komen  \\\n",
       "0                                      [oke, pak, boss] 2014-06-05 03:55:15   \n",
       "1                                       [jangan, dusta] 2014-06-05 03:55:29   \n",
       "2                [probowo, is, the, winner, of, pemilu] 2014-06-05 03:55:32   \n",
       "3                                          [ilmu, padi] 2014-06-05 03:55:35   \n",
       "4                                 [hidup, pak, prabowo] 2014-06-05 03:55:42   \n",
       "...                                                 ...                 ...   \n",
       "3359                                      [salam, jari] 2014-07-09 03:25:45   \n",
       "3360  [jujur, ketika, ane, membuka, surat, suara, ta... 2014-07-09 03:21:40   \n",
       "3361  [bapak, jokowi, kami, semua, rakyat, ingin, ba... 2014-07-09 03:24:02   \n",
       "3362  [tanda, alam, pemilu, day, on, juli, hasil, je... 2014-07-09 03:26:36   \n",
       "3363  [dosa, dosa, prabowo, admin, tolak, lupa, mari... 2014-07-09 03:21:40   \n",
       "\n",
       "        label  \n",
       "0     positif  \n",
       "1     negatif  \n",
       "2     positif  \n",
       "3      netral  \n",
       "4     positif  \n",
       "...       ...  \n",
       "3359  positif  \n",
       "3360  negatif  \n",
       "3361  positif  \n",
       "3362  positif  \n",
       "3363  positif  \n",
       "\n",
       "[3364 rows x 12 columns]"
      ]
     },
     "execution_count": 3,
     "metadata": {},
     "output_type": "execute_result"
    }
   ],
   "source": [
    "import re\n",
    "import string\n",
    "nltk.download('punkt')\n",
    "\n",
    "komentar = df['komentar'].astype(str)\n",
    "\n",
    "#Lower case\n",
    "komentar = komentar.apply(lambda x: x.lower())\n",
    "\n",
    "#Remove URL\n",
    "komentar = komentar.apply(lambda x: re.sub(r'^https?:\\/\\/.*[\\r\\n]*', '', x, flags=re.MULTILINE))\n",
    "\n",
    "#Remove Number\n",
    "komentar = komentar.apply(lambda x: re.sub(r\"\\d\", \"\", x))\n",
    "\n",
    "#Before Punctuation\n",
    "komentar = komentar.apply(lambda x: re.sub(r'(?<=[,.])(?=[^\\s])', r' ', x))\n",
    "\n",
    "#Punctuation\n",
    "komentar = komentar.apply(lambda x: x.translate(str.maketrans('', '', string.punctuation)))\n",
    "\n",
    "#Remove Non Alphanumeric\n",
    "komentar = komentar.apply(lambda x: re.sub(r'([^\\s\\w]|_)+', '', x))\n",
    "\n",
    "#Tokenizing\n",
    "komentar = komentar.apply(lambda x: nltk.tokenize.word_tokenize(x))\n",
    "\n",
    "df['komentar'] = komentar\n",
    "df"
   ]
  },
  {
   "cell_type": "code",
   "execution_count": 4,
   "metadata": {
    "colab": {},
    "colab_type": "code",
    "id": "1mueYlUvDPW_"
   },
   "outputs": [],
   "source": [
    "df = df[df.komentar.astype(bool)]\n",
    "\n",
    "X_temp = df['komentar']\n",
    "y = df['label']"
   ]
  },
  {
   "cell_type": "code",
   "execution_count": 5,
   "metadata": {
    "colab": {},
    "colab_type": "code",
    "id": "O3_1RFELDVSE"
   },
   "outputs": [],
   "source": [
    "from sklearn.model_selection import train_test_split\n",
    "\n",
    "X_train, X_test, y_train, y_test = train_test_split(X_temp, y, test_size=0.2, random_state=42, stratify=y)"
   ]
  },
  {
   "cell_type": "code",
   "execution_count": 6,
   "metadata": {
    "colab": {},
    "colab_type": "code",
    "id": "cgRO5LBcDYb1"
   },
   "outputs": [
    {
     "name": "stderr",
     "output_type": "stream",
     "text": [
      "C:\\ProgramData\\Anaconda3\\lib\\site-packages\\ipykernel_launcher.py:2: DeprecationWarning: Call to deprecated `load_fasttext_format` (use load_facebook_vectors (to use pretrained embeddings) or load_facebook_model (to continue training with the loaded full model, more RAM) instead).\n",
      "  \n"
     ]
    }
   ],
   "source": [
    "from gensim.models.fasttext import FastText\n",
    "model = FastText.load_fasttext_format('../../../cc.id.300.bin')"
   ]
  },
  {
   "cell_type": "code",
   "execution_count": 7,
   "metadata": {
    "colab": {},
    "colab_type": "code",
    "id": "MAXB0jxkDaSF"
   },
   "outputs": [],
   "source": [
    "from MeanVectorizer import MeanEmbeddingVectorizer\n",
    "mean_vec_tr = MeanEmbeddingVectorizer(model)"
   ]
  },
  {
   "cell_type": "code",
   "execution_count": 8,
   "metadata": {
    "colab": {},
    "colab_type": "code",
    "id": "Mgo5m4XHDb_g"
   },
   "outputs": [],
   "source": [
    "X_train_vector = mean_vec_tr.transform(X_train)\n",
    "X_test_vector = mean_vec_tr.transform(X_test)"
   ]
  },
  {
   "cell_type": "code",
   "execution_count": 9,
   "metadata": {
    "colab": {},
    "colab_type": "code",
    "id": "CAKqHDOqDeOB"
   },
   "outputs": [],
   "source": [
    "import xgboost as xgb\n",
    "from xgboost import XGBClassifier"
   ]
  },
  {
   "cell_type": "code",
   "execution_count": 10,
   "metadata": {
    "colab": {
     "base_uri": "https://localhost:8080/",
     "height": 34
    },
    "colab_type": "code",
    "executionInfo": {
     "elapsed": 195018,
     "status": "ok",
     "timestamp": 1587041385590,
     "user": {
      "displayName": "EGA PAMUNGKAS SUSANTO . (00000019178)",
      "photoUrl": "https://lh3.googleusercontent.com/a-/AOh14Gh9ZDbqciFyFK-ZMwKyEh3NUNVhzJh5ZFQxLQIQ=s64",
      "userId": "05299055555202443211"
     },
     "user_tz": -420
    },
    "id": "fcO4-eCQEQP0",
    "outputId": "1f8114f2-769f-48b6-bbfb-83d56cd2e4fc"
   },
   "outputs": [
    {
     "data": {
      "text/plain": [
       "LabelEncoder()"
      ]
     },
     "execution_count": 10,
     "metadata": {},
     "output_type": "execute_result"
    }
   ],
   "source": [
    "lc=preprocessing.LabelEncoder()\n",
    "lc.fit(y)"
   ]
  },
  {
   "cell_type": "code",
   "execution_count": 11,
   "metadata": {
    "colab": {},
    "colab_type": "code",
    "id": "6zrqBbJ5ERxp"
   },
   "outputs": [],
   "source": [
    "y_train_enc=lc.transform(y_train)\n",
    "y_test_enc=lc.transform(y_test)"
   ]
  },
  {
   "cell_type": "code",
   "execution_count": 12,
   "metadata": {
    "colab": {
     "base_uri": "https://localhost:8080/",
     "height": 141
    },
    "colab_type": "code",
    "executionInfo": {
     "elapsed": 195008,
     "status": "ok",
     "timestamp": 1587041385591,
     "user": {
      "displayName": "EGA PAMUNGKAS SUSANTO . (00000019178)",
      "photoUrl": "https://lh3.googleusercontent.com/a-/AOh14Gh9ZDbqciFyFK-ZMwKyEh3NUNVhzJh5ZFQxLQIQ=s64",
      "userId": "05299055555202443211"
     },
     "user_tz": -420
    },
    "id": "T0HMnZPWES7l",
    "outputId": "418dfdd1-9616-4071-dc0b-50211ae6f77c"
   },
   "outputs": [
    {
     "name": "stdout",
     "output_type": "stream",
     "text": [
      "\n",
      "Ini Weights\n",
      " [0.05 0.05 0.05 ... 0.05 0.05 0.05] \n",
      "\n",
      "Ini y_train_encode\n",
      " [2 2 2 ... 2 2 2] \n",
      "\n"
     ]
    }
   ],
   "source": [
    "# weights = np.zeros(len(y_train))\n",
    "# weights[y_train == 0] =  0.4\n",
    "# weights[y_train == 1] =  1\n",
    "# weights[y_train == 2] =  0.05\n",
    "\n",
    "# weights = y_train_enc\n",
    "# weights[y_train_enc == 0] =  0.4\n",
    "# weights[y_train_enc == 1] =  1\n",
    "# weights[y_train_enc == 2] =  0.05\n",
    "\n",
    "weights = y_train_enc\n",
    "weights = np.choose(weights, [0.4, 1, 0.05])\n",
    "\n",
    "train=xgb.DMatrix(X_train_vector,label=y_train_enc, weight=weights)\n",
    "test=xgb.DMatrix(X_test_vector,label=y_test_enc)\n",
    "\n",
    "print(\"\\nIni Weights\\n\", weights, \"\\n\")\n",
    "print(\"Ini y_train_encode\\n\", y_train_enc, \"\\n\")"
   ]
  },
  {
   "cell_type": "code",
   "execution_count": 13,
   "metadata": {
    "colab": {
     "base_uri": "https://localhost:8080/",
     "height": 1000
    },
    "colab_type": "code",
    "executionInfo": {
     "elapsed": 206971,
     "status": "ok",
     "timestamp": 1587041397560,
     "user": {
      "displayName": "EGA PAMUNGKAS SUSANTO . (00000019178)",
      "photoUrl": "https://lh3.googleusercontent.com/a-/AOh14Gh9ZDbqciFyFK-ZMwKyEh3NUNVhzJh5ZFQxLQIQ=s64",
      "userId": "05299055555202443211"
     },
     "user_tz": -420
    },
    "id": "cMmnx6L3EZ-k",
    "outputId": "b4f92003-1596-450e-950e-7bd4614cd986",
    "scrolled": true
   },
   "outputs": [
    {
     "name": "stdout",
     "output_type": "stream",
     "text": [
      "[0]\ttrain-merror:0.46135\ttest-merror:0.39671\n",
      "[1]\ttrain-merror:0.40524\ttest-merror:0.39371\n",
      "[2]\ttrain-merror:0.37403\ttest-merror:0.38623\n",
      "[3]\ttrain-merror:0.36012\ttest-merror:0.34281\n",
      "[4]\ttrain-merror:0.36206\ttest-merror:0.34431\n",
      "[5]\ttrain-merror:0.35835\ttest-merror:0.33982\n",
      "[6]\ttrain-merror:0.36303\ttest-merror:0.33084\n",
      "[7]\ttrain-merror:0.33474\ttest-merror:0.34132\n",
      "[8]\ttrain-merror:0.34945\ttest-merror:0.33233\n",
      "[9]\ttrain-merror:0.34897\ttest-merror:0.32485\n",
      "[10]\ttrain-merror:0.33684\ttest-merror:0.33084\n",
      "[11]\ttrain-merror:0.32665\ttest-merror:0.33233\n",
      "[12]\ttrain-merror:0.32358\ttest-merror:0.32485\n",
      "[13]\ttrain-merror:0.32245\ttest-merror:0.31138\n",
      "[14]\ttrain-merror:0.32390\ttest-merror:0.31737\n",
      "[15]\ttrain-merror:0.31954\ttest-merror:0.31287\n",
      "[16]\ttrain-merror:0.31986\ttest-merror:0.32784\n",
      "[17]\ttrain-merror:0.31776\ttest-merror:0.33084\n",
      "[18]\ttrain-merror:0.31371\ttest-merror:0.31587\n",
      "[19]\ttrain-merror:0.30902\ttest-merror:0.30838\n",
      "[20]\ttrain-merror:0.32034\ttest-merror:0.31138\n",
      "[21]\ttrain-merror:0.32309\ttest-merror:0.31437\n",
      "[22]\ttrain-merror:0.32293\ttest-merror:0.31886\n",
      "[23]\ttrain-merror:0.32261\ttest-merror:0.31587\n",
      "[24]\ttrain-merror:0.32568\ttest-merror:0.31737\n",
      "[25]\ttrain-merror:0.31452\ttest-merror:0.31437\n",
      "[26]\ttrain-merror:0.31776\ttest-merror:0.31138\n",
      "[27]\ttrain-merror:0.31226\ttest-merror:0.31287\n",
      "[28]\ttrain-merror:0.31016\ttest-merror:0.31737\n",
      "[29]\ttrain-merror:0.31339\ttest-merror:0.31138\n",
      "[30]\ttrain-merror:0.31646\ttest-merror:0.31737\n",
      "[31]\ttrain-merror:0.31760\ttest-merror:0.31287\n",
      "[32]\ttrain-merror:0.31970\ttest-merror:0.30838\n",
      "[33]\ttrain-merror:0.31484\ttest-merror:0.30838\n",
      "[34]\ttrain-merror:0.32406\ttest-merror:0.30689\n",
      "[35]\ttrain-merror:0.32811\ttest-merror:0.31287\n",
      "[36]\ttrain-merror:0.32568\ttest-merror:0.31437\n",
      "[37]\ttrain-merror:0.32455\ttest-merror:0.31737\n",
      "[38]\ttrain-merror:0.30854\ttest-merror:0.31737\n",
      "[39]\ttrain-merror:0.31436\ttest-merror:0.31587\n",
      "[40]\ttrain-merror:0.31856\ttest-merror:0.31587\n",
      "[41]\ttrain-merror:0.31501\ttest-merror:0.30988\n",
      "[42]\ttrain-merror:0.31565\ttest-merror:0.31138\n",
      "[43]\ttrain-merror:0.30676\ttest-merror:0.30689\n",
      "[44]\ttrain-merror:0.31388\ttest-merror:0.30689\n",
      "[45]\ttrain-merror:0.31080\ttest-merror:0.30539\n",
      "[46]\ttrain-merror:0.30433\ttest-merror:0.30539\n",
      "[47]\ttrain-merror:0.30288\ttest-merror:0.30689\n",
      "[48]\ttrain-merror:0.30644\ttest-merror:0.30689\n",
      "[49]\ttrain-merror:0.30579\ttest-merror:0.30689\n",
      "[50]\ttrain-merror:0.30967\ttest-merror:0.31138\n",
      "[51]\ttrain-merror:0.30692\ttest-merror:0.31287\n",
      "[52]\ttrain-merror:0.30773\ttest-merror:0.30838\n",
      "[53]\ttrain-merror:0.30951\ttest-merror:0.30689\n",
      "[54]\ttrain-merror:0.30611\ttest-merror:0.30988\n",
      "[55]\ttrain-merror:0.30628\ttest-merror:0.31138\n",
      "[56]\ttrain-merror:0.30724\ttest-merror:0.30539\n",
      "[57]\ttrain-merror:0.30579\ttest-merror:0.30389\n",
      "[58]\ttrain-merror:0.30579\ttest-merror:0.30090\n",
      "[59]\ttrain-merror:0.30789\ttest-merror:0.30389\n",
      "[60]\ttrain-merror:0.30611\ttest-merror:0.30090\n",
      "[61]\ttrain-merror:0.30854\ttest-merror:0.29940\n",
      "[62]\ttrain-merror:0.31517\ttest-merror:0.30539\n",
      "[63]\ttrain-merror:0.31485\ttest-merror:0.30539\n",
      "[64]\ttrain-merror:0.30870\ttest-merror:0.30389\n",
      "[65]\ttrain-merror:0.31194\ttest-merror:0.30689\n",
      "[66]\ttrain-merror:0.31161\ttest-merror:0.30689\n",
      "[67]\ttrain-merror:0.31177\ttest-merror:0.30838\n",
      "[68]\ttrain-merror:0.31016\ttest-merror:0.30389\n",
      "[69]\ttrain-merror:0.30628\ttest-merror:0.30689\n",
      "[70]\ttrain-merror:0.31161\ttest-merror:0.30539\n",
      "[71]\ttrain-merror:0.31064\ttest-merror:0.30389\n",
      "[72]\ttrain-merror:0.31032\ttest-merror:0.30539\n",
      "[73]\ttrain-merror:0.31048\ttest-merror:0.30389\n",
      "[74]\ttrain-merror:0.31080\ttest-merror:0.30389\n",
      "[75]\ttrain-merror:0.31420\ttest-merror:0.30539\n",
      "[76]\ttrain-merror:0.31388\ttest-merror:0.30689\n",
      "[77]\ttrain-merror:0.31274\ttest-merror:0.30090\n",
      "[78]\ttrain-merror:0.30805\ttest-merror:0.29940\n",
      "[79]\ttrain-merror:0.31274\ttest-merror:0.29940\n",
      "[80]\ttrain-merror:0.30951\ttest-merror:0.30389\n",
      "[81]\ttrain-merror:0.30951\ttest-merror:0.30090\n",
      "[82]\ttrain-merror:0.31517\ttest-merror:0.30838\n",
      "[83]\ttrain-merror:0.30967\ttest-merror:0.30988\n",
      "[84]\ttrain-merror:0.30757\ttest-merror:0.30689\n",
      "[85]\ttrain-merror:0.30838\ttest-merror:0.30988\n",
      "[86]\ttrain-merror:0.30983\ttest-merror:0.31287\n",
      "[87]\ttrain-merror:0.30999\ttest-merror:0.30988\n",
      "[88]\ttrain-merror:0.30919\ttest-merror:0.30988\n",
      "[89]\ttrain-merror:0.30870\ttest-merror:0.30838\n",
      "[90]\ttrain-merror:0.30951\ttest-merror:0.30689\n",
      "[91]\ttrain-merror:0.30951\ttest-merror:0.30838\n",
      "[92]\ttrain-merror:0.31194\ttest-merror:0.30988\n",
      "[93]\ttrain-merror:0.31517\ttest-merror:0.31287\n",
      "[94]\ttrain-merror:0.31452\ttest-merror:0.31287\n",
      "[95]\ttrain-merror:0.31242\ttest-merror:0.31437\n",
      "[96]\ttrain-merror:0.31177\ttest-merror:0.31737\n",
      "[97]\ttrain-merror:0.30854\ttest-merror:0.31737\n",
      "[98]\ttrain-merror:0.30660\ttest-merror:0.31437\n",
      "[99]\ttrain-merror:0.30935\ttest-merror:0.31437\n"
     ]
    }
   ],
   "source": [
    "param = {}\n",
    "\n",
    "param['num_class']=len(set(y))\n",
    "param['learning_rate'] = 0.001\n",
    "param['max_depth'] = 7\n",
    "param['min_child_weight'] = 10\n",
    "param['gamma'] = 2\n",
    "param['reg_alpha'] = 0.9\n",
    "param['reg_lambda'] = 4\n",
    "param['subsample'] = 0.7\n",
    "param['colsample_bytree'] = 1\n",
    "param['objective'] = 'multi:softmax'\n",
    "# param['scale_pos_weight'] = 1\n",
    "\n",
    "watchlist = [(train, 'train'), (test, 'test')]\n",
    "num_round = 100\n",
    "num_boost_rounds = 1250\n",
    "bst = xgb.train(param, train, num_round, watchlist)"
   ]
  },
  {
   "cell_type": "code",
   "execution_count": 14,
   "metadata": {
    "colab": {},
    "colab_type": "code",
    "id": "pTrg3BUXEbiR"
   },
   "outputs": [],
   "source": [
    "pred = bst.predict(test)\n",
    "pred2 = bst.predict(train)"
   ]
  },
  {
   "cell_type": "code",
   "execution_count": 15,
   "metadata": {
    "colab": {},
    "colab_type": "code",
    "id": "HmrbhyFKEdra"
   },
   "outputs": [],
   "source": [
    "predictions = lc.inverse_transform(list(map(int,pred)))\n",
    "predictions2 = lc.inverse_transform(list(map(int,pred2)))"
   ]
  },
  {
   "cell_type": "code",
   "execution_count": 16,
   "metadata": {
    "colab": {
     "base_uri": "https://localhost:8080/",
     "height": 443
    },
    "colab_type": "code",
    "executionInfo": {
     "elapsed": 206965,
     "status": "ok",
     "timestamp": 1587041397565,
     "user": {
      "displayName": "EGA PAMUNGKAS SUSANTO . (00000019178)",
      "photoUrl": "https://lh3.googleusercontent.com/a-/AOh14Gh9ZDbqciFyFK-ZMwKyEh3NUNVhzJh5ZFQxLQIQ=s64",
      "userId": "05299055555202443211"
     },
     "user_tz": -420
    },
    "id": "8HfUVlkUEfDu",
    "outputId": "8a5def4d-29a2-4cd8-8dcc-4ae01bdca87f"
   },
   "outputs": [
    {
     "name": "stdout",
     "output_type": "stream",
     "text": [
      "\n",
      "Test Score\n",
      " 0.6856287425149701 \n",
      "\n",
      "Train Score\n",
      " 0.7008611007113441 \n",
      "\n",
      "CONFUSSION MATRIX\n",
      " [[ 40   4  22]\n",
      " [  6   4  12]\n",
      " [146  20 414]] \n",
      "\n",
      "CLASSIFICATION REPORT\n",
      "               precision    recall  f1-score   support\n",
      "\n",
      "     negatif       0.21      0.61      0.31        66\n",
      "      netral       0.14      0.18      0.16        22\n",
      "     positif       0.92      0.71      0.81       580\n",
      "\n",
      "    accuracy                           0.69       668\n",
      "   macro avg       0.43      0.50      0.43       668\n",
      "weighted avg       0.83      0.69      0.74       668\n",
      " \n",
      "\n"
     ]
    }
   ],
   "source": [
    "from sklearn.metrics import accuracy_score\n",
    "from sklearn.metrics import classification_report,confusion_matrix,accuracy_score\n",
    "\n",
    "test_score = accuracy_score(predictions,y_test)\n",
    "train_score = accuracy_score(predictions2, y_train)\n",
    "\n",
    "print(\"\\nTest Score\\n\", test_score, \"\\n\")\n",
    "print(\"Train Score\\n\", train_score, \"\\n\")\n",
    "print(\"CONFUSSION MATRIX\\n\", confusion_matrix(y_test, predictions), \"\\n\")\n",
    "print(\"CLASSIFICATION REPORT\\n\", classification_report(y_test, predictions), \"\\n\")"
   ]
  },
  {
   "cell_type": "code",
   "execution_count": 17,
   "metadata": {
    "colab": {
     "base_uri": "https://localhost:8080/",
     "height": 332
    },
    "colab_type": "code",
    "executionInfo": {
     "elapsed": 206960,
     "status": "ok",
     "timestamp": 1587041397566,
     "user": {
      "displayName": "EGA PAMUNGKAS SUSANTO . (00000019178)",
      "photoUrl": "https://lh3.googleusercontent.com/a-/AOh14Gh9ZDbqciFyFK-ZMwKyEh3NUNVhzJh5ZFQxLQIQ=s64",
      "userId": "05299055555202443211"
     },
     "user_tz": -420
    },
    "id": "DkmJ-Js5EgWd",
    "outputId": "c80d6320-fa5e-4044-d5d9-72337697f4c9"
   },
   "outputs": [
    {
     "data": {
      "text/plain": [
       "<matplotlib.axes._subplots.AxesSubplot at 0x19342fa6908>"
      ]
     },
     "execution_count": 17,
     "metadata": {},
     "output_type": "execute_result"
    },
    {
     "data": {
      "image/png": "[encoded data removed]",
      "text/plain": [
       "<Figure size 432x288 with 2 Axes>"
      ]
     },
     "metadata": {
      "needs_background": "light"
     },
     "output_type": "display_data"
    }
   ],
   "source": [
    "import seaborn as sn\n",
    "\n",
    "confusion = pd.crosstab(y_test, predictions, rownames=['Actual'], colnames=['Predicted'])\n",
    "\n",
    "sn.heatmap(confusion, annot=True)"
   ]
  },
  {
   "cell_type": "code",
   "execution_count": 18,
   "metadata": {
    "colab": {
     "base_uri": "https://localhost:8080/",
     "height": 494
    },
    "colab_type": "code",
    "executionInfo": {
     "elapsed": 211210,
     "status": "error",
     "timestamp": 1587041401824,
     "user": {
      "displayName": "EGA PAMUNGKAS SUSANTO . (00000019178)",
      "photoUrl": "https://lh3.googleusercontent.com/a-/AOh14Gh9ZDbqciFyFK-ZMwKyEh3NUNVhzJh5ZFQxLQIQ=s64",
      "userId": "05299055555202443211"
     },
     "user_tz": -420
    },
    "id": "Qb6Mgqy5EiSt",
    "outputId": "4f716063-4191-4702-a8b8-8849389bd563"
   },
   "outputs": [],
   "source": [
    "# # Create XGB Classifier object\n",
    "# xgb_clf = xgb.XGBClassifier(tree_method = \"exact\", predictor = \"cpu_predictor\", verbosity = 1, objective = \"multi:softmax\")\n",
    "\n",
    "# # Create parameter grid\n",
    "# parameters = {\"learning_rate\": [1, 0.9, 0.8, 0.7, 0.6, 0.5, 0.4, 0.3, 0.2, 0.1, 0.01, 0.001],\n",
    "#                \"gamma\" : [0.01, 0.1, 0.2, 0.3, 0.4, 0.5, 0.6, 1, 1.5, 2, 3, 4, 6],\n",
    "#                \"max_depth\": [1, 2, 3, 4, 5, 6, 7, 8, 9, 10, 12, 14, 16, 18, 20],\n",
    "#                \"colsample_bytree\": [0.1, 0.2, 0.3, 0.4, 0.5, 0.6, 0.7, 0.8, 0.9, 1.0],\n",
    "#                \"subsample\": [0.1, 0.2, 0.3, 0.4, 0.5, 0.6, 0.7, 0.8, 0.9],\n",
    "#                \"reg_alpha\": [0, 0.2, 0.3, 0.4, 0.5, 0.6, 0.7, 0.8, 0.9, 1],\n",
    "#                \"reg_lambda\": [1, 1.5, 2, 3, 4.5, 4, 5],\n",
    "#                \"min_child_weight\": [1, 2, 3, 4, 5, 6, 7, 8, 9, 10],\n",
    "#                \"n_estimators\": [100, 250, 500, 1000]}\n",
    "\n",
    "# from sklearn.model_selection import RandomizedSearchCV\n",
    "# # Create RandomizedSearchCV Object\n",
    "# xgb_rscv = RandomizedSearchCV(xgb_clf, param_distributions = parameters, scoring = \"f1_micro\",\n",
    "#                              cv = 10, verbose = 3, random_state = 40 )\n",
    "           \n",
    "# # Fit the model\n",
    "# model_xgboost = xgb_rscv.fit(X_train_vector, y_train)\n",
    "\n",
    "# # Model best estimators\n",
    "# print(\"Learning Rate: \", model_xgboost.best_estimator_.get_params()[\"learning_rate\"])\n",
    "# print(\"Gamma: \", model_xgboost.best_estimator_.get_params()[\"gamma\"])\n",
    "# print(\"Max Depth: \", model_xgboost.best_estimator_.get_params()[\"max_depth\"])\n",
    "# print(\"Subsample: \", model_xgboost.best_estimator_.get_params()[\"subsample\"])\n",
    "# print(\"Colsample Bytree: \", model_xgboost.best_estimator_.get_params()[\"colsample_bytree\"])\n",
    "# print(\"Colsample Bylevel: \", model_xgboost.best_estimator_.get_params()[\"colsample_bylevel\"])\n",
    "# print(\"Alpha: \", model_xgboost.best_estimator_.get_params()[\"reg_alpha\"])\n",
    "# print(\"Lamda: \", model_xgboost.best_estimator_.get_params()[\"reg_lambda\"])\n",
    "# print(\"Min Child Weight: \", model_xgboost.best_estimator_.get_params()[\"min_child_weight\"])\n",
    "# print(\"Number of Trees: \", model_xgboost.best_estimator_.get_params()[\"n_estimators\"])"
   ]
  }
 ],
 "metadata": {
  "accelerator": "GPU",
  "colab": {
   "authorship_tag": "ABX9TyN6PTvdUIgB1ZHY+RzFHNW1",
   "collapsed_sections": [],
   "name": "XGBWeightNetral.ipynb",
   "provenance": []
  },
  "kernelspec": {
   "display_name": "Python 3",
   "language": "python",
   "name": "python3"
  },
  "language_info": {
   "codemirror_mode": {
    "name": "ipython",
    "version": 3
   },
   "file_extension": ".py",
   "mimetype": "text/x-python",
   "name": "python",
   "nbconvert_exporter": "python",
   "pygments_lexer": "ipython3",
   "version": "3.7.6"
  }
 },
 "nbformat": 4,
 "nbformat_minor": 1
}
