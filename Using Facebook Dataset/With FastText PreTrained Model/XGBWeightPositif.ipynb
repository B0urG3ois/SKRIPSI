{
 "cells": [
  {
   "cell_type": "code",
   "execution_count": 1,
   "metadata": {
    "colab": {},
    "colab_type": "code",
    "id": "ao40ZFJMTGbb"
   },
   "outputs": [],
   "source": [
    "import spacy\n",
    "nlp = spacy.blank('id')\n",
    "import gensim\n",
    "import pandas as pd\n",
    "import nltk\n",
    "import numpy as np\n",
    "from sklearn import preprocessing"
   ]
  },
  {
   "cell_type": "code",
   "execution_count": 2,
   "metadata": {
    "colab": {
     "base_uri": "https://localhost:8080/",
     "height": 397
    },
    "colab_type": "code",
    "executionInfo": {
     "elapsed": 27381,
     "status": "ok",
     "timestamp": 1587041514650,
     "user": {
      "displayName": "EGA PAMUNGKAS SUSANTO . (00000019178)",
      "photoUrl": "https://lh3.googleusercontent.com/a-/AOh14Gh9ZDbqciFyFK-ZMwKyEh3NUNVhzJh5ZFQxLQIQ=s64",
      "userId": "05299055555202443211"
     },
     "user_tz": -420
    },
    "id": "fOUbXjJWTNf7",
    "outputId": "cb9542f0-9350-479e-8f21-7c501d7a7f3f"
   },
   "outputs": [
    {
     "data": {
      "text/html": [
       "<div>\n",
       "<style scoped>\n",
       "    .dataframe tbody tr th:only-of-type {\n",
       "        vertical-align: middle;\n",
       "    }\n",
       "\n",
       "    .dataframe tbody tr th {\n",
       "        vertical-align: top;\n",
       "    }\n",
       "\n",
       "    .dataframe thead th {\n",
       "        text-align: right;\n",
       "    }\n",
       "</style>\n",
       "<table border=\"1\" class=\"dataframe\">\n",
       "  <thead>\n",
       "    <tr style=\"text-align: right;\">\n",
       "      <th></th>\n",
       "      <th>id_pembuat</th>\n",
       "      <th>id_status</th>\n",
       "      <th>nama_pembuat</th>\n",
       "      <th>teks_status</th>\n",
       "      <th>gambar_status</th>\n",
       "      <th>url_komentar</th>\n",
       "      <th>waktu_status</th>\n",
       "      <th>id_komentar</th>\n",
       "      <th>id_user_komen</th>\n",
       "      <th>komentar</th>\n",
       "      <th>waktu_komen</th>\n",
       "      <th>label</th>\n",
       "    </tr>\n",
       "  </thead>\n",
       "  <tbody>\n",
       "    <tr>\n",
       "      <th>0</th>\n",
       "      <td>23383061178</td>\n",
       "      <td>23383061178_10152076252911179</td>\n",
       "      <td>Bang Nafie</td>\n",
       "      <td>Saya banyak belajar prinsip-prinsip kehidupan ...</td>\n",
       "      <td>https://fbexternal-a.akamaihd.net/safe_image.p...</td>\n",
       "      <td>https://www.facebook.com/23383061178/posts/101...</td>\n",
       "      <td>2014-06-05 03:54:47</td>\n",
       "      <td>10152076252516179_10152076253441179</td>\n",
       "      <td>794948677210695</td>\n",
       "      <td>Oke pak boss!!</td>\n",
       "      <td>2014-06-05 03:55:15</td>\n",
       "      <td>positif</td>\n",
       "    </tr>\n",
       "    <tr>\n",
       "      <th>1</th>\n",
       "      <td>23383061178</td>\n",
       "      <td>23383061178_10152076252911179</td>\n",
       "      <td>Sumy Kakasyi Suhaimy</td>\n",
       "      <td>Saya banyak belajar prinsip-prinsip kehidupan ...</td>\n",
       "      <td>https://fbexternal-a.akamaihd.net/safe_image.p...</td>\n",
       "      <td>https://www.facebook.com/23383061178/posts/101...</td>\n",
       "      <td>2014-06-05 03:54:47</td>\n",
       "      <td>10152076252516179_10152076253906179</td>\n",
       "      <td>355122887988412</td>\n",
       "      <td>Jangan dusta</td>\n",
       "      <td>2014-06-05 03:55:29</td>\n",
       "      <td>negatif</td>\n",
       "    </tr>\n",
       "    <tr>\n",
       "      <th>2</th>\n",
       "      <td>23383061178</td>\n",
       "      <td>23383061178_10152076252911179</td>\n",
       "      <td>Roberto Red</td>\n",
       "      <td>Saya banyak belajar prinsip-prinsip kehidupan ...</td>\n",
       "      <td>https://fbexternal-a.akamaihd.net/safe_image.p...</td>\n",
       "      <td>https://www.facebook.com/23383061178/posts/101...</td>\n",
       "      <td>2014-06-05 03:54:47</td>\n",
       "      <td>10152076252516179_10152076253996179</td>\n",
       "      <td>297825977080553</td>\n",
       "      <td>PROBOWO is the WINNER of PEMILU 2014</td>\n",
       "      <td>2014-06-05 03:55:32</td>\n",
       "      <td>positif</td>\n",
       "    </tr>\n",
       "    <tr>\n",
       "      <th>3</th>\n",
       "      <td>23383061178</td>\n",
       "      <td>23383061178_10152076252911179</td>\n",
       "      <td>Sugiarman Arman</td>\n",
       "      <td>Saya banyak belajar prinsip-prinsip kehidupan ...</td>\n",
       "      <td>https://fbexternal-a.akamaihd.net/safe_image.p...</td>\n",
       "      <td>https://www.facebook.com/23383061178/posts/101...</td>\n",
       "      <td>2014-06-05 03:54:47</td>\n",
       "      <td>10152076252516179_10152076254066179</td>\n",
       "      <td>298708870333739</td>\n",
       "      <td>ilmu padi</td>\n",
       "      <td>2014-06-05 03:55:35</td>\n",
       "      <td>netral</td>\n",
       "    </tr>\n",
       "    <tr>\n",
       "      <th>4</th>\n",
       "      <td>23383061178</td>\n",
       "      <td>23383061178_10152076252911179</td>\n",
       "      <td>Rio Corps Taruna</td>\n",
       "      <td>Saya banyak belajar prinsip-prinsip kehidupan ...</td>\n",
       "      <td>https://fbexternal-a.akamaihd.net/safe_image.p...</td>\n",
       "      <td>https://www.facebook.com/23383061178/posts/101...</td>\n",
       "      <td>2014-06-05 03:54:47</td>\n",
       "      <td>10152076252516179_10152076254216179</td>\n",
       "      <td>1523715244533780</td>\n",
       "      <td>Hidup Pak Prabowo ..</td>\n",
       "      <td>2014-06-05 03:55:42</td>\n",
       "      <td>positif</td>\n",
       "    </tr>\n",
       "  </tbody>\n",
       "</table>\n",
       "</div>"
      ],
      "text/plain": [
       "    id_pembuat                      id_status          nama_pembuat  \\\n",
       "0  23383061178  23383061178_10152076252911179            Bang Nafie   \n",
       "1  23383061178  23383061178_10152076252911179  Sumy Kakasyi Suhaimy   \n",
       "2  23383061178  23383061178_10152076252911179           Roberto Red   \n",
       "3  23383061178  23383061178_10152076252911179       Sugiarman Arman   \n",
       "4  23383061178  23383061178_10152076252911179      Rio Corps Taruna   \n",
       "\n",
       "                                         teks_status  \\\n",
       "0  Saya banyak belajar prinsip-prinsip kehidupan ...   \n",
       "1  Saya banyak belajar prinsip-prinsip kehidupan ...   \n",
       "2  Saya banyak belajar prinsip-prinsip kehidupan ...   \n",
       "3  Saya banyak belajar prinsip-prinsip kehidupan ...   \n",
       "4  Saya banyak belajar prinsip-prinsip kehidupan ...   \n",
       "\n",
       "                                       gambar_status  \\\n",
       "0  https://fbexternal-a.akamaihd.net/safe_image.p...   \n",
       "1  https://fbexternal-a.akamaihd.net/safe_image.p...   \n",
       "2  https://fbexternal-a.akamaihd.net/safe_image.p...   \n",
       "3  https://fbexternal-a.akamaihd.net/safe_image.p...   \n",
       "4  https://fbexternal-a.akamaihd.net/safe_image.p...   \n",
       "\n",
       "                                        url_komentar        waktu_status  \\\n",
       "0  https://www.facebook.com/23383061178/posts/101... 2014-06-05 03:54:47   \n",
       "1  https://www.facebook.com/23383061178/posts/101... 2014-06-05 03:54:47   \n",
       "2  https://www.facebook.com/23383061178/posts/101... 2014-06-05 03:54:47   \n",
       "3  https://www.facebook.com/23383061178/posts/101... 2014-06-05 03:54:47   \n",
       "4  https://www.facebook.com/23383061178/posts/101... 2014-06-05 03:54:47   \n",
       "\n",
       "                           id_komentar     id_user_komen  \\\n",
       "0  10152076252516179_10152076253441179   794948677210695   \n",
       "1  10152076252516179_10152076253906179   355122887988412   \n",
       "2  10152076252516179_10152076253996179   297825977080553   \n",
       "3  10152076252516179_10152076254066179   298708870333739   \n",
       "4  10152076252516179_10152076254216179  1523715244533780   \n",
       "\n",
       "                               komentar         waktu_komen    label  \n",
       "0                        Oke pak boss!! 2014-06-05 03:55:15  positif  \n",
       "1                          Jangan dusta 2014-06-05 03:55:29  negatif  \n",
       "2  PROBOWO is the WINNER of PEMILU 2014 2014-06-05 03:55:32  positif  \n",
       "3                             ilmu padi 2014-06-05 03:55:35   netral  \n",
       "4                  Hidup Pak Prabowo .. 2014-06-05 03:55:42  positif  "
      ]
     },
     "execution_count": 2,
     "metadata": {},
     "output_type": "execute_result"
    }
   ],
   "source": [
    "df = pd.read_excel(\"pemilu.xlsx\")\n",
    "df.head()"
   ]
  },
  {
   "cell_type": "code",
   "execution_count": 3,
   "metadata": {
    "colab": {
     "base_uri": "https://localhost:8080/",
     "height": 1000
    },
    "colab_type": "code",
    "executionInfo": {
     "elapsed": 29919,
     "status": "ok",
     "timestamp": 1587041517195,
     "user": {
      "displayName": "EGA PAMUNGKAS SUSANTO . (00000019178)",
      "photoUrl": "https://lh3.googleusercontent.com/a-/AOh14Gh9ZDbqciFyFK-ZMwKyEh3NUNVhzJh5ZFQxLQIQ=s64",
      "userId": "05299055555202443211"
     },
     "user_tz": -420
    },
    "id": "gRzKFPEvTOpo",
    "outputId": "929a7f5b-725b-4cb5-e703-c8ad640c9a24"
   },
   "outputs": [
    {
     "name": "stderr",
     "output_type": "stream",
     "text": [
      "[nltk_data] Downloading package punkt to\n",
      "[nltk_data]     C:\\Users\\egapa\\AppData\\Roaming\\nltk_data...\n",
      "[nltk_data]   Package punkt is already up-to-date!\n"
     ]
    },
    {
     "data": {
      "text/html": [
       "<div>\n",
       "<style scoped>\n",
       "    .dataframe tbody tr th:only-of-type {\n",
       "        vertical-align: middle;\n",
       "    }\n",
       "\n",
       "    .dataframe tbody tr th {\n",
       "        vertical-align: top;\n",
       "    }\n",
       "\n",
       "    .dataframe thead th {\n",
       "        text-align: right;\n",
       "    }\n",
       "</style>\n",
       "<table border=\"1\" class=\"dataframe\">\n",
       "  <thead>\n",
       "    <tr style=\"text-align: right;\">\n",
       "      <th></th>\n",
       "      <th>id_pembuat</th>\n",
       "      <th>id_status</th>\n",
       "      <th>nama_pembuat</th>\n",
       "      <th>teks_status</th>\n",
       "      <th>gambar_status</th>\n",
       "      <th>url_komentar</th>\n",
       "      <th>waktu_status</th>\n",
       "      <th>id_komentar</th>\n",
       "      <th>id_user_komen</th>\n",
       "      <th>komentar</th>\n",
       "      <th>waktu_komen</th>\n",
       "      <th>label</th>\n",
       "    </tr>\n",
       "  </thead>\n",
       "  <tbody>\n",
       "    <tr>\n",
       "      <th>0</th>\n",
       "      <td>23383061178</td>\n",
       "      <td>23383061178_10152076252911179</td>\n",
       "      <td>Bang Nafie</td>\n",
       "      <td>Saya banyak belajar prinsip-prinsip kehidupan ...</td>\n",
       "      <td>https://fbexternal-a.akamaihd.net/safe_image.p...</td>\n",
       "      <td>https://www.facebook.com/23383061178/posts/101...</td>\n",
       "      <td>2014-06-05 03:54:47</td>\n",
       "      <td>10152076252516179_10152076253441179</td>\n",
       "      <td>794948677210695</td>\n",
       "      <td>[oke, pak, boss]</td>\n",
       "      <td>2014-06-05 03:55:15</td>\n",
       "      <td>positif</td>\n",
       "    </tr>\n",
       "    <tr>\n",
       "      <th>1</th>\n",
       "      <td>23383061178</td>\n",
       "      <td>23383061178_10152076252911179</td>\n",
       "      <td>Sumy Kakasyi Suhaimy</td>\n",
       "      <td>Saya banyak belajar prinsip-prinsip kehidupan ...</td>\n",
       "      <td>https://fbexternal-a.akamaihd.net/safe_image.p...</td>\n",
       "      <td>https://www.facebook.com/23383061178/posts/101...</td>\n",
       "      <td>2014-06-05 03:54:47</td>\n",
       "      <td>10152076252516179_10152076253906179</td>\n",
       "      <td>355122887988412</td>\n",
       "      <td>[jangan, dusta]</td>\n",
       "      <td>2014-06-05 03:55:29</td>\n",
       "      <td>negatif</td>\n",
       "    </tr>\n",
       "    <tr>\n",
       "      <th>2</th>\n",
       "      <td>23383061178</td>\n",
       "      <td>23383061178_10152076252911179</td>\n",
       "      <td>Roberto Red</td>\n",
       "      <td>Saya banyak belajar prinsip-prinsip kehidupan ...</td>\n",
       "      <td>https://fbexternal-a.akamaihd.net/safe_image.p...</td>\n",
       "      <td>https://www.facebook.com/23383061178/posts/101...</td>\n",
       "      <td>2014-06-05 03:54:47</td>\n",
       "      <td>10152076252516179_10152076253996179</td>\n",
       "      <td>297825977080553</td>\n",
       "      <td>[probowo, is, the, winner, of, pemilu]</td>\n",
       "      <td>2014-06-05 03:55:32</td>\n",
       "      <td>positif</td>\n",
       "    </tr>\n",
       "    <tr>\n",
       "      <th>3</th>\n",
       "      <td>23383061178</td>\n",
       "      <td>23383061178_10152076252911179</td>\n",
       "      <td>Sugiarman Arman</td>\n",
       "      <td>Saya banyak belajar prinsip-prinsip kehidupan ...</td>\n",
       "      <td>https://fbexternal-a.akamaihd.net/safe_image.p...</td>\n",
       "      <td>https://www.facebook.com/23383061178/posts/101...</td>\n",
       "      <td>2014-06-05 03:54:47</td>\n",
       "      <td>10152076252516179_10152076254066179</td>\n",
       "      <td>298708870333739</td>\n",
       "      <td>[ilmu, padi]</td>\n",
       "      <td>2014-06-05 03:55:35</td>\n",
       "      <td>netral</td>\n",
       "    </tr>\n",
       "    <tr>\n",
       "      <th>4</th>\n",
       "      <td>23383061178</td>\n",
       "      <td>23383061178_10152076252911179</td>\n",
       "      <td>Rio Corps Taruna</td>\n",
       "      <td>Saya banyak belajar prinsip-prinsip kehidupan ...</td>\n",
       "      <td>https://fbexternal-a.akamaihd.net/safe_image.p...</td>\n",
       "      <td>https://www.facebook.com/23383061178/posts/101...</td>\n",
       "      <td>2014-06-05 03:54:47</td>\n",
       "      <td>10152076252516179_10152076254216179</td>\n",
       "      <td>1523715244533780</td>\n",
       "      <td>[hidup, pak, prabowo]</td>\n",
       "      <td>2014-06-05 03:55:42</td>\n",
       "      <td>positif</td>\n",
       "    </tr>\n",
       "    <tr>\n",
       "      <th>...</th>\n",
       "      <td>...</td>\n",
       "      <td>...</td>\n",
       "      <td>...</td>\n",
       "      <td>...</td>\n",
       "      <td>...</td>\n",
       "      <td>...</td>\n",
       "      <td>...</td>\n",
       "      <td>...</td>\n",
       "      <td>...</td>\n",
       "      <td>...</td>\n",
       "      <td>...</td>\n",
       "      <td>...</td>\n",
       "    </tr>\n",
       "    <tr>\n",
       "      <th>3359</th>\n",
       "      <td>249750628565406</td>\n",
       "      <td>249750628565406_276917339182068</td>\n",
       "      <td>Anita Rizkia</td>\n",
       "      <td>Dukungan anda semua adalah amanah, dan apapun ...</td>\n",
       "      <td>https://fbexternal-a.akamaihd.net/safe_image.p...</td>\n",
       "      <td>https://www.facebook.com/249750628565406/posts...</td>\n",
       "      <td>2014-07-09 03:19:51</td>\n",
       "      <td>276891429184659_276927652514370</td>\n",
       "      <td>967613349931842</td>\n",
       "      <td>[salam, jari]</td>\n",
       "      <td>2014-07-09 03:25:45</td>\n",
       "      <td>positif</td>\n",
       "    </tr>\n",
       "    <tr>\n",
       "      <th>3360</th>\n",
       "      <td>249750628565406</td>\n",
       "      <td>249750628565406_276917339182068</td>\n",
       "      <td>Ari Bin Abu Bakar</td>\n",
       "      <td>Dukungan anda semua adalah amanah, dan apapun ...</td>\n",
       "      <td>https://fbexternal-a.akamaihd.net/safe_image.p...</td>\n",
       "      <td>https://www.facebook.com/249750628565406/posts...</td>\n",
       "      <td>2014-07-09 03:19:51</td>\n",
       "      <td>276891429184659_276918865848582</td>\n",
       "      <td>773356856051191</td>\n",
       "      <td>[jujur, ketika, ane, membuka, surat, suara, ta...</td>\n",
       "      <td>2014-07-09 03:21:40</td>\n",
       "      <td>negatif</td>\n",
       "    </tr>\n",
       "    <tr>\n",
       "      <th>3361</th>\n",
       "      <td>249750628565406</td>\n",
       "      <td>249750628565406_276917339182068</td>\n",
       "      <td>Agek James</td>\n",
       "      <td>Dukungan anda semua adalah amanah, dan apapun ...</td>\n",
       "      <td>https://fbexternal-a.akamaihd.net/safe_image.p...</td>\n",
       "      <td>https://www.facebook.com/249750628565406/posts...</td>\n",
       "      <td>2014-07-09 03:19:51</td>\n",
       "      <td>276891429184659_276921042515031</td>\n",
       "      <td>710343512387954</td>\n",
       "      <td>[bapak, jokowi, kami, semua, rakyat, ingin, ba...</td>\n",
       "      <td>2014-07-09 03:24:02</td>\n",
       "      <td>positif</td>\n",
       "    </tr>\n",
       "    <tr>\n",
       "      <th>3362</th>\n",
       "      <td>249750628565406</td>\n",
       "      <td>249750628565406_276917339182068</td>\n",
       "      <td>ChairudinDr Humaniora</td>\n",
       "      <td>Dukungan anda semua adalah amanah, dan apapun ...</td>\n",
       "      <td>https://fbexternal-a.akamaihd.net/safe_image.p...</td>\n",
       "      <td>https://www.facebook.com/249750628565406/posts...</td>\n",
       "      <td>2014-07-09 03:19:51</td>\n",
       "      <td>276891429184659_276931322514003</td>\n",
       "      <td>10152763210314600</td>\n",
       "      <td>[tanda, alam, pemilu, day, on, juli, hasil, je...</td>\n",
       "      <td>2014-07-09 03:26:36</td>\n",
       "      <td>positif</td>\n",
       "    </tr>\n",
       "    <tr>\n",
       "      <th>3363</th>\n",
       "      <td>249750628565406</td>\n",
       "      <td>249750628565406_276917339182068</td>\n",
       "      <td>Wahyu Setyo Nugroho</td>\n",
       "      <td>Dukungan anda semua adalah amanah, dan apapun ...</td>\n",
       "      <td>https://fbexternal-a.akamaihd.net/safe_image.p...</td>\n",
       "      <td>https://www.facebook.com/249750628565406/posts...</td>\n",
       "      <td>2014-07-09 03:19:51</td>\n",
       "      <td>276891429184659_276918872515248</td>\n",
       "      <td>830713220314118</td>\n",
       "      <td>[dosa, dosa, prabowo, admin, tolak, lupa, mari...</td>\n",
       "      <td>2014-07-09 03:21:40</td>\n",
       "      <td>positif</td>\n",
       "    </tr>\n",
       "  </tbody>\n",
       "</table>\n",
       "<p>3364 rows × 12 columns</p>\n",
       "</div>"
      ],
      "text/plain": [
       "           id_pembuat                        id_status           nama_pembuat  \\\n",
       "0         23383061178    23383061178_10152076252911179             Bang Nafie   \n",
       "1         23383061178    23383061178_10152076252911179   Sumy Kakasyi Suhaimy   \n",
       "2         23383061178    23383061178_10152076252911179            Roberto Red   \n",
       "3         23383061178    23383061178_10152076252911179        Sugiarman Arman   \n",
       "4         23383061178    23383061178_10152076252911179       Rio Corps Taruna   \n",
       "...               ...                              ...                    ...   \n",
       "3359  249750628565406  249750628565406_276917339182068           Anita Rizkia   \n",
       "3360  249750628565406  249750628565406_276917339182068      Ari Bin Abu Bakar   \n",
       "3361  249750628565406  249750628565406_276917339182068             Agek James   \n",
       "3362  249750628565406  249750628565406_276917339182068  ChairudinDr Humaniora   \n",
       "3363  249750628565406  249750628565406_276917339182068    Wahyu Setyo Nugroho   \n",
       "\n",
       "                                            teks_status  \\\n",
       "0     Saya banyak belajar prinsip-prinsip kehidupan ...   \n",
       "1     Saya banyak belajar prinsip-prinsip kehidupan ...   \n",
       "2     Saya banyak belajar prinsip-prinsip kehidupan ...   \n",
       "3     Saya banyak belajar prinsip-prinsip kehidupan ...   \n",
       "4     Saya banyak belajar prinsip-prinsip kehidupan ...   \n",
       "...                                                 ...   \n",
       "3359  Dukungan anda semua adalah amanah, dan apapun ...   \n",
       "3360  Dukungan anda semua adalah amanah, dan apapun ...   \n",
       "3361  Dukungan anda semua adalah amanah, dan apapun ...   \n",
       "3362  Dukungan anda semua adalah amanah, dan apapun ...   \n",
       "3363  Dukungan anda semua adalah amanah, dan apapun ...   \n",
       "\n",
       "                                          gambar_status  \\\n",
       "0     https://fbexternal-a.akamaihd.net/safe_image.p...   \n",
       "1     https://fbexternal-a.akamaihd.net/safe_image.p...   \n",
       "2     https://fbexternal-a.akamaihd.net/safe_image.p...   \n",
       "3     https://fbexternal-a.akamaihd.net/safe_image.p...   \n",
       "4     https://fbexternal-a.akamaihd.net/safe_image.p...   \n",
       "...                                                 ...   \n",
       "3359  https://fbexternal-a.akamaihd.net/safe_image.p...   \n",
       "3360  https://fbexternal-a.akamaihd.net/safe_image.p...   \n",
       "3361  https://fbexternal-a.akamaihd.net/safe_image.p...   \n",
       "3362  https://fbexternal-a.akamaihd.net/safe_image.p...   \n",
       "3363  https://fbexternal-a.akamaihd.net/safe_image.p...   \n",
       "\n",
       "                                           url_komentar        waktu_status  \\\n",
       "0     https://www.facebook.com/23383061178/posts/101... 2014-06-05 03:54:47   \n",
       "1     https://www.facebook.com/23383061178/posts/101... 2014-06-05 03:54:47   \n",
       "2     https://www.facebook.com/23383061178/posts/101... 2014-06-05 03:54:47   \n",
       "3     https://www.facebook.com/23383061178/posts/101... 2014-06-05 03:54:47   \n",
       "4     https://www.facebook.com/23383061178/posts/101... 2014-06-05 03:54:47   \n",
       "...                                                 ...                 ...   \n",
       "3359  https://www.facebook.com/249750628565406/posts... 2014-07-09 03:19:51   \n",
       "3360  https://www.facebook.com/249750628565406/posts... 2014-07-09 03:19:51   \n",
       "3361  https://www.facebook.com/249750628565406/posts... 2014-07-09 03:19:51   \n",
       "3362  https://www.facebook.com/249750628565406/posts... 2014-07-09 03:19:51   \n",
       "3363  https://www.facebook.com/249750628565406/posts... 2014-07-09 03:19:51   \n",
       "\n",
       "                              id_komentar      id_user_komen  \\\n",
       "0     10152076252516179_10152076253441179    794948677210695   \n",
       "1     10152076252516179_10152076253906179    355122887988412   \n",
       "2     10152076252516179_10152076253996179    297825977080553   \n",
       "3     10152076252516179_10152076254066179    298708870333739   \n",
       "4     10152076252516179_10152076254216179   1523715244533780   \n",
       "...                                   ...                ...   \n",
       "3359      276891429184659_276927652514370    967613349931842   \n",
       "3360      276891429184659_276918865848582    773356856051191   \n",
       "3361      276891429184659_276921042515031    710343512387954   \n",
       "3362      276891429184659_276931322514003  10152763210314600   \n",
       "3363      276891429184659_276918872515248    830713220314118   \n",
       "\n",
       "                                               komentar         waktu_komen  \\\n",
       "0                                      [oke, pak, boss] 2014-06-05 03:55:15   \n",
       "1                                       [jangan, dusta] 2014-06-05 03:55:29   \n",
       "2                [probowo, is, the, winner, of, pemilu] 2014-06-05 03:55:32   \n",
       "3                                          [ilmu, padi] 2014-06-05 03:55:35   \n",
       "4                                 [hidup, pak, prabowo] 2014-06-05 03:55:42   \n",
       "...                                                 ...                 ...   \n",
       "3359                                      [salam, jari] 2014-07-09 03:25:45   \n",
       "3360  [jujur, ketika, ane, membuka, surat, suara, ta... 2014-07-09 03:21:40   \n",
       "3361  [bapak, jokowi, kami, semua, rakyat, ingin, ba... 2014-07-09 03:24:02   \n",
       "3362  [tanda, alam, pemilu, day, on, juli, hasil, je... 2014-07-09 03:26:36   \n",
       "3363  [dosa, dosa, prabowo, admin, tolak, lupa, mari... 2014-07-09 03:21:40   \n",
       "\n",
       "        label  \n",
       "0     positif  \n",
       "1     negatif  \n",
       "2     positif  \n",
       "3      netral  \n",
       "4     positif  \n",
       "...       ...  \n",
       "3359  positif  \n",
       "3360  negatif  \n",
       "3361  positif  \n",
       "3362  positif  \n",
       "3363  positif  \n",
       "\n",
       "[3364 rows x 12 columns]"
      ]
     },
     "execution_count": 3,
     "metadata": {},
     "output_type": "execute_result"
    }
   ],
   "source": [
    "import re\n",
    "import string\n",
    "nltk.download('punkt')\n",
    "\n",
    "komentar = df['komentar'].astype(str)\n",
    "\n",
    "#Lower case\n",
    "komentar = komentar.apply(lambda x: x.lower())\n",
    "\n",
    "#Remove URL\n",
    "komentar = komentar.apply(lambda x: re.sub(r'^https?:\\/\\/.*[\\r\\n]*', '', x, flags=re.MULTILINE))\n",
    "\n",
    "#Remove Number\n",
    "komentar = komentar.apply(lambda x: re.sub(r\"\\d\", \"\", x))\n",
    "\n",
    "#Before Punctuation\n",
    "komentar = komentar.apply(lambda x: re.sub(r'(?<=[,.])(?=[^\\s])', r' ', x))\n",
    "\n",
    "#Punctuation\n",
    "komentar = komentar.apply(lambda x: x.translate(str.maketrans('', '', string.punctuation)))\n",
    "\n",
    "#Remove Non Alphanumeric\n",
    "komentar = komentar.apply(lambda x: re.sub(r'([^\\s\\w]|_)+', '', x))\n",
    "\n",
    "#Tokenizing\n",
    "komentar = komentar.apply(lambda x: nltk.tokenize.word_tokenize(x))\n",
    "\n",
    "df['komentar'] = komentar\n",
    "df"
   ]
  },
  {
   "cell_type": "code",
   "execution_count": 4,
   "metadata": {
    "colab": {},
    "colab_type": "code",
    "id": "f64kpgw8TQPo"
   },
   "outputs": [],
   "source": [
    "df = df[df.komentar.astype(bool)]\n",
    "\n",
    "X_temp = df['komentar']\n",
    "y = df['label']"
   ]
  },
  {
   "cell_type": "code",
   "execution_count": 5,
   "metadata": {
    "colab": {},
    "colab_type": "code",
    "id": "5yR5Q51nTSwp"
   },
   "outputs": [],
   "source": [
    "from sklearn.model_selection import train_test_split\n",
    "\n",
    "X_train, X_test, y_train, y_test = train_test_split(X_temp, y, test_size=0.2, random_state=42, stratify=y)"
   ]
  },
  {
   "cell_type": "code",
   "execution_count": 6,
   "metadata": {
    "colab": {},
    "colab_type": "code",
    "id": "xiisfPXBTUX1"
   },
   "outputs": [
    {
     "name": "stderr",
     "output_type": "stream",
     "text": [
      "C:\\ProgramData\\Anaconda3\\lib\\site-packages\\ipykernel_launcher.py:2: DeprecationWarning: Call to deprecated `load_fasttext_format` (use load_facebook_vectors (to use pretrained embeddings) or load_facebook_model (to continue training with the loaded full model, more RAM) instead).\n",
      "  \n"
     ]
    }
   ],
   "source": [
    "from gensim.models.fasttext import FastText\n",
    "model = FastText.load_fasttext_format('../../../cc.id.300.bin')"
   ]
  },
  {
   "cell_type": "code",
   "execution_count": 7,
   "metadata": {
    "colab": {},
    "colab_type": "code",
    "id": "SLMDoCqXTVvX"
   },
   "outputs": [],
   "source": [
    "from MeanVectorizer import MeanEmbeddingVectorizer\n",
    "mean_vec_tr = MeanEmbeddingVectorizer(model)"
   ]
  },
  {
   "cell_type": "code",
   "execution_count": 8,
   "metadata": {
    "colab": {},
    "colab_type": "code",
    "id": "oMe_rs-mThuP"
   },
   "outputs": [],
   "source": [
    "X_train_vector = mean_vec_tr.transform(X_train)\n",
    "X_test_vector = mean_vec_tr.transform(X_test)"
   ]
  },
  {
   "cell_type": "code",
   "execution_count": 9,
   "metadata": {
    "colab": {},
    "colab_type": "code",
    "id": "4ieHJ4A_TjXQ"
   },
   "outputs": [],
   "source": [
    "import xgboost as xgb\n",
    "from xgboost import XGBClassifier"
   ]
  },
  {
   "cell_type": "code",
   "execution_count": 10,
   "metadata": {
    "colab": {
     "base_uri": "https://localhost:8080/",
     "height": 34
    },
    "colab_type": "code",
    "executionInfo": {
     "elapsed": 224901,
     "status": "ok",
     "timestamp": 1587041712203,
     "user": {
      "displayName": "EGA PAMUNGKAS SUSANTO . (00000019178)",
      "photoUrl": "https://lh3.googleusercontent.com/a-/AOh14Gh9ZDbqciFyFK-ZMwKyEh3NUNVhzJh5ZFQxLQIQ=s64",
      "userId": "05299055555202443211"
     },
     "user_tz": -420
    },
    "id": "ywxnfVQaTlC0",
    "outputId": "b6fad899-7e4e-40d9-8367-6a7c59e4f188"
   },
   "outputs": [
    {
     "data": {
      "text/plain": [
       "LabelEncoder()"
      ]
     },
     "execution_count": 10,
     "metadata": {},
     "output_type": "execute_result"
    }
   ],
   "source": [
    "lc=preprocessing.LabelEncoder()\n",
    "lc.fit(y)"
   ]
  },
  {
   "cell_type": "code",
   "execution_count": 11,
   "metadata": {
    "colab": {},
    "colab_type": "code",
    "id": "a4BnCXHkTmKH"
   },
   "outputs": [],
   "source": [
    "y_train_enc=lc.transform(y_train)\n",
    "y_test_enc=lc.transform(y_test)"
   ]
  },
  {
   "cell_type": "code",
   "execution_count": 12,
   "metadata": {
    "colab": {
     "base_uri": "https://localhost:8080/",
     "height": 141
    },
    "colab_type": "code",
    "executionInfo": {
     "elapsed": 224891,
     "status": "ok",
     "timestamp": 1587041712204,
     "user": {
      "displayName": "EGA PAMUNGKAS SUSANTO . (00000019178)",
      "photoUrl": "https://lh3.googleusercontent.com/a-/AOh14Gh9ZDbqciFyFK-ZMwKyEh3NUNVhzJh5ZFQxLQIQ=s64",
      "userId": "05299055555202443211"
     },
     "user_tz": -420
    },
    "id": "_5zzPGnvT2Dz",
    "outputId": "2c43fac4-9a2d-4ff4-d802-3b9852953db5"
   },
   "outputs": [
    {
     "name": "stdout",
     "output_type": "stream",
     "text": [
      "\n",
      "Ini Weights\n",
      " [1 1 1 ... 1 1 1] \n",
      "\n",
      "Ini y_train_encode\n",
      " [2 2 2 ... 2 2 2] \n",
      "\n"
     ]
    }
   ],
   "source": [
    "weights = y_train_enc\n",
    "weights = np.choose(weights, [10, 30, 1])\n",
    "\n",
    "train=xgb.DMatrix(X_train_vector,label=y_train_enc, weight=weights)\n",
    "test=xgb.DMatrix(X_test_vector,label=y_test_enc)\n",
    "\n",
    "print(\"\\nIni Weights\\n\", weights, \"\\n\")\n",
    "print(\"Ini y_train_encode\\n\", y_train_enc, \"\\n\")"
   ]
  },
  {
   "cell_type": "code",
   "execution_count": 13,
   "metadata": {
    "colab": {
     "base_uri": "https://localhost:8080/",
     "height": 1000
    },
    "colab_type": "code",
    "executionInfo": {
     "elapsed": 249632,
     "status": "ok",
     "timestamp": 1587041736951,
     "user": {
      "displayName": "EGA PAMUNGKAS SUSANTO . (00000019178)",
      "photoUrl": "https://lh3.googleusercontent.com/a-/AOh14Gh9ZDbqciFyFK-ZMwKyEh3NUNVhzJh5ZFQxLQIQ=s64",
      "userId": "05299055555202443211"
     },
     "user_tz": -420
    },
    "id": "5F7sVehlT8A8",
    "outputId": "513782bb-d146-4d1d-bb9a-5e608187e28a",
    "scrolled": true
   },
   "outputs": [
    {
     "name": "stdout",
     "output_type": "stream",
     "text": [
      "[0]\ttrain-merror:0.24941\ttest-merror:0.28593\n",
      "[1]\ttrain-merror:0.14532\ttest-merror:0.26048\n",
      "[2]\ttrain-merror:0.10830\ttest-merror:0.24701\n",
      "[3]\ttrain-merror:0.08801\ttest-merror:0.24252\n",
      "[4]\ttrain-merror:0.07299\ttest-merror:0.23353\n",
      "[5]\ttrain-merror:0.06192\ttest-merror:0.21257\n",
      "[6]\ttrain-merror:0.05283\ttest-merror:0.21108\n",
      "[7]\ttrain-merror:0.04914\ttest-merror:0.20659\n",
      "[8]\ttrain-merror:0.04453\ttest-merror:0.19910\n",
      "[9]\ttrain-merror:0.04585\ttest-merror:0.18263\n",
      "[10]\ttrain-merror:0.04282\ttest-merror:0.17814\n",
      "[11]\ttrain-merror:0.04348\ttest-merror:0.17665\n",
      "[12]\ttrain-merror:0.03992\ttest-merror:0.17216\n",
      "[13]\ttrain-merror:0.03663\ttest-merror:0.17216\n",
      "[14]\ttrain-merror:0.03636\ttest-merror:0.16467\n",
      "[15]\ttrain-merror:0.03597\ttest-merror:0.16018\n",
      "[16]\ttrain-merror:0.03136\ttest-merror:0.15868\n",
      "[17]\ttrain-merror:0.03202\ttest-merror:0.15868\n",
      "[18]\ttrain-merror:0.03109\ttest-merror:0.15868\n",
      "[19]\ttrain-merror:0.03215\ttest-merror:0.16767\n",
      "[20]\ttrain-merror:0.03202\ttest-merror:0.16018\n",
      "[21]\ttrain-merror:0.03162\ttest-merror:0.15419\n",
      "[22]\ttrain-merror:0.03149\ttest-merror:0.15269\n",
      "[23]\ttrain-merror:0.03136\ttest-merror:0.15269\n",
      "[24]\ttrain-merror:0.03122\ttest-merror:0.15419\n",
      "[25]\ttrain-merror:0.03122\ttest-merror:0.15569\n",
      "[26]\ttrain-merror:0.03136\ttest-merror:0.15419\n",
      "[27]\ttrain-merror:0.03122\ttest-merror:0.15719\n",
      "[28]\ttrain-merror:0.03122\ttest-merror:0.16018\n",
      "[29]\ttrain-merror:0.03004\ttest-merror:0.15868\n",
      "[30]\ttrain-merror:0.03004\ttest-merror:0.16168\n",
      "[31]\ttrain-merror:0.03057\ttest-merror:0.15569\n",
      "[32]\ttrain-merror:0.03083\ttest-merror:0.15868\n",
      "[33]\ttrain-merror:0.03057\ttest-merror:0.15719\n",
      "[34]\ttrain-merror:0.03004\ttest-merror:0.15569\n",
      "[35]\ttrain-merror:0.02938\ttest-merror:0.16467\n",
      "[36]\ttrain-merror:0.03070\ttest-merror:0.16018\n",
      "[37]\ttrain-merror:0.03044\ttest-merror:0.15868\n",
      "[38]\ttrain-merror:0.02925\ttest-merror:0.15868\n",
      "[39]\ttrain-merror:0.03044\ttest-merror:0.15569\n",
      "[40]\ttrain-merror:0.03070\ttest-merror:0.15419\n",
      "[41]\ttrain-merror:0.03044\ttest-merror:0.16018\n",
      "[42]\ttrain-merror:0.03057\ttest-merror:0.16168\n",
      "[43]\ttrain-merror:0.02938\ttest-merror:0.15569\n",
      "[44]\ttrain-merror:0.02978\ttest-merror:0.16168\n",
      "[45]\ttrain-merror:0.02885\ttest-merror:0.15868\n",
      "[46]\ttrain-merror:0.02899\ttest-merror:0.15868\n",
      "[47]\ttrain-merror:0.02885\ttest-merror:0.15868\n",
      "[48]\ttrain-merror:0.02899\ttest-merror:0.15719\n",
      "[49]\ttrain-merror:0.02872\ttest-merror:0.16018\n",
      "[50]\ttrain-merror:0.02885\ttest-merror:0.15269\n",
      "[51]\ttrain-merror:0.02925\ttest-merror:0.15569\n",
      "[52]\ttrain-merror:0.02899\ttest-merror:0.15569\n",
      "[53]\ttrain-merror:0.02899\ttest-merror:0.15269\n",
      "[54]\ttrain-merror:0.02938\ttest-merror:0.15419\n",
      "[55]\ttrain-merror:0.02925\ttest-merror:0.15269\n",
      "[56]\ttrain-merror:0.02938\ttest-merror:0.15269\n",
      "[57]\ttrain-merror:0.02912\ttest-merror:0.15269\n",
      "[58]\ttrain-merror:0.02912\ttest-merror:0.15419\n",
      "[59]\ttrain-merror:0.02872\ttest-merror:0.15419\n",
      "[60]\ttrain-merror:0.02780\ttest-merror:0.15269\n",
      "[61]\ttrain-merror:0.02872\ttest-merror:0.15419\n",
      "[62]\ttrain-merror:0.02899\ttest-merror:0.15419\n",
      "[63]\ttrain-merror:0.02859\ttest-merror:0.15419\n",
      "[64]\ttrain-merror:0.02780\ttest-merror:0.15269\n",
      "[65]\ttrain-merror:0.02740\ttest-merror:0.15269\n",
      "[66]\ttrain-merror:0.02727\ttest-merror:0.15120\n",
      "[67]\ttrain-merror:0.02740\ttest-merror:0.14970\n",
      "[68]\ttrain-merror:0.02727\ttest-merror:0.15120\n",
      "[69]\ttrain-merror:0.02714\ttest-merror:0.15120\n",
      "[70]\ttrain-merror:0.02754\ttest-merror:0.15120\n",
      "[71]\ttrain-merror:0.02714\ttest-merror:0.14970\n",
      "[72]\ttrain-merror:0.02688\ttest-merror:0.15269\n",
      "[73]\ttrain-merror:0.02582\ttest-merror:0.15120\n",
      "[74]\ttrain-merror:0.02543\ttest-merror:0.15269\n",
      "[75]\ttrain-merror:0.02582\ttest-merror:0.15120\n",
      "[76]\ttrain-merror:0.02675\ttest-merror:0.14970\n",
      "[77]\ttrain-merror:0.02806\ttest-merror:0.14820\n",
      "[78]\ttrain-merror:0.02820\ttest-merror:0.15269\n",
      "[79]\ttrain-merror:0.02727\ttest-merror:0.15120\n",
      "[80]\ttrain-merror:0.02727\ttest-merror:0.14521\n",
      "[81]\ttrain-merror:0.02714\ttest-merror:0.14671\n",
      "[82]\ttrain-merror:0.02569\ttest-merror:0.14671\n",
      "[83]\ttrain-merror:0.02556\ttest-merror:0.14521\n",
      "[84]\ttrain-merror:0.02530\ttest-merror:0.14371\n",
      "[85]\ttrain-merror:0.02582\ttest-merror:0.14521\n",
      "[86]\ttrain-merror:0.02569\ttest-merror:0.14671\n",
      "[87]\ttrain-merror:0.02701\ttest-merror:0.14671\n",
      "[88]\ttrain-merror:0.02530\ttest-merror:0.14820\n",
      "[89]\ttrain-merror:0.02543\ttest-merror:0.14820\n",
      "[90]\ttrain-merror:0.02675\ttest-merror:0.14820\n",
      "[91]\ttrain-merror:0.02688\ttest-merror:0.14970\n",
      "[92]\ttrain-merror:0.02661\ttest-merror:0.14970\n",
      "[93]\ttrain-merror:0.02648\ttest-merror:0.14970\n",
      "[94]\ttrain-merror:0.02648\ttest-merror:0.14970\n",
      "[95]\ttrain-merror:0.02688\ttest-merror:0.14970\n",
      "[96]\ttrain-merror:0.02530\ttest-merror:0.14970\n",
      "[97]\ttrain-merror:0.02543\ttest-merror:0.14970\n",
      "[98]\ttrain-merror:0.02675\ttest-merror:0.14970\n",
      "[99]\ttrain-merror:0.02675\ttest-merror:0.14970\n"
     ]
    }
   ],
   "source": [
    "param = {}\n",
    "\n",
    "param['num_class']=len(set(y))\n",
    "param['learning_rate'] = 0.001\n",
    "param['max_depth'] = 7\n",
    "param['min_child_weight'] = 10\n",
    "param['gamma'] = 2\n",
    "param['reg_alpha'] = 0.9\n",
    "param['reg_lambda'] = 4\n",
    "param['subsample'] = 0.7\n",
    "param['colsample_bytree'] = 1\n",
    "param['objective'] = 'multi:softmax'\n",
    "# param['scale_pos_weight'] = 1\n",
    "\n",
    "watchlist = [(train, 'train'), (test, 'test')]\n",
    "num_round = 100\n",
    "bst = xgb.train(param, train, num_round, watchlist)"
   ]
  },
  {
   "cell_type": "code",
   "execution_count": 14,
   "metadata": {
    "colab": {},
    "colab_type": "code",
    "id": "VJPbcoGyT-DP"
   },
   "outputs": [],
   "source": [
    "pred = bst.predict(test)\n",
    "pred2 = bst.predict(train)"
   ]
  },
  {
   "cell_type": "code",
   "execution_count": 15,
   "metadata": {
    "colab": {},
    "colab_type": "code",
    "id": "pqk98ZClUAFC"
   },
   "outputs": [],
   "source": [
    "predictions = lc.inverse_transform(list(map(int,pred)))\n",
    "predictions2 = lc.inverse_transform(list(map(int,pred2)))"
   ]
  },
  {
   "cell_type": "code",
   "execution_count": 16,
   "metadata": {
    "colab": {
     "base_uri": "https://localhost:8080/",
     "height": 443
    },
    "colab_type": "code",
    "executionInfo": {
     "elapsed": 249625,
     "status": "ok",
     "timestamp": 1587041736954,
     "user": {
      "displayName": "EGA PAMUNGKAS SUSANTO . (00000019178)",
      "photoUrl": "https://lh3.googleusercontent.com/a-/AOh14Gh9ZDbqciFyFK-ZMwKyEh3NUNVhzJh5ZFQxLQIQ=s64",
      "userId": "05299055555202443211"
     },
     "user_tz": -420
    },
    "id": "PBIlyagyUBNY",
    "outputId": "be7d8cf3-be03-4ac7-c133-3c5caf22c7cd"
   },
   "outputs": [
    {
     "name": "stdout",
     "output_type": "stream",
     "text": [
      "\n",
      "Test Score\n",
      " 0.8502994011976048 \n",
      "\n",
      "Train Score\n",
      " 0.9576937476600524 \n",
      "\n",
      "CONFUSSION MATRIX\n",
      " [[ 21   0  45]\n",
      " [  5   0  17]\n",
      " [ 31   2 547]] \n",
      "\n",
      "CLASSIFICATION REPORT\n",
      "               precision    recall  f1-score   support\n",
      "\n",
      "     negatif       0.37      0.32      0.34        66\n",
      "      netral       0.00      0.00      0.00        22\n",
      "     positif       0.90      0.94      0.92       580\n",
      "\n",
      "    accuracy                           0.85       668\n",
      "   macro avg       0.42      0.42      0.42       668\n",
      "weighted avg       0.82      0.85      0.83       668\n",
      " \n",
      "\n"
     ]
    }
   ],
   "source": [
    "from sklearn.metrics import accuracy_score\n",
    "from sklearn.metrics import classification_report,confusion_matrix,accuracy_score\n",
    "\n",
    "test_score = accuracy_score(predictions,y_test)\n",
    "train_score = accuracy_score(predictions2, y_train)\n",
    "\n",
    "print(\"\\nTest Score\\n\", test_score, \"\\n\")\n",
    "print(\"Train Score\\n\", train_score, \"\\n\")\n",
    "print(\"CONFUSSION MATRIX\\n\", confusion_matrix(y_test, predictions), \"\\n\")\n",
    "print(\"CLASSIFICATION REPORT\\n\", classification_report(y_test, predictions), \"\\n\")"
   ]
  },
  {
   "cell_type": "code",
   "execution_count": 17,
   "metadata": {
    "colab": {
     "base_uri": "https://localhost:8080/",
     "height": 332
    },
    "colab_type": "code",
    "executionInfo": {
     "elapsed": 250291,
     "status": "ok",
     "timestamp": 1587041737626,
     "user": {
      "displayName": "EGA PAMUNGKAS SUSANTO . (00000019178)",
      "photoUrl": "https://lh3.googleusercontent.com/a-/AOh14Gh9ZDbqciFyFK-ZMwKyEh3NUNVhzJh5ZFQxLQIQ=s64",
      "userId": "05299055555202443211"
     },
     "user_tz": -420
    },
    "id": "DK3ht2nVUCfv",
    "outputId": "b416ddd3-a912-4ebc-ca64-0ef3fbb8f934"
   },
   "outputs": [
    {
     "data": {
      "text/plain": [
       "<matplotlib.axes._subplots.AxesSubplot at 0x26dfacada48>"
      ]
     },
     "execution_count": 17,
     "metadata": {},
     "output_type": "execute_result"
    },
    {
     "data": {
      "image/png": "[encoded data removed]",
      "text/plain": [
       "<Figure size 432x288 with 2 Axes>"
      ]
     },
     "metadata": {
      "needs_background": "light"
     },
     "output_type": "display_data"
    }
   ],
   "source": [
    "import seaborn as sn\n",
    "\n",
    "confusion = pd.crosstab(y_test, predictions, rownames=['Actual'], colnames=['Predicted'])\n",
    "\n",
    "sn.heatmap(confusion, annot=True)"
   ]
  },
  {
   "cell_type": "code",
   "execution_count": 18,
   "metadata": {
    "colab": {},
    "colab_type": "code",
    "id": "prypfGIMUGom",
    "scrolled": true
   },
   "outputs": [],
   "source": [
    "# # Create XGB Classifier object\n",
    "# xgb_clf = xgb.XGBClassifier(tree_method = \"exact\", predictor = \"cpu_predictor\", verbosity = 1, objective = \"multi:softmax\")\n",
    "\n",
    "# # Create parameter grid\n",
    "# parameters = {\"learning_rate\": [1, 0.9, 0.8, 0.7, 0.6, 0.5, 0.4, 0.3, 0.2, 0.1, 0.01, 0.001],\n",
    "#                \"gamma\" : [0.01, 0.1, 0.2, 0.3, 0.4, 0.5, 0.6, 1, 1.5, 2, 3, 4, 6],\n",
    "#                \"max_depth\": [1, 2, 3, 4, 5, 6, 7, 8, 9, 10, 12, 14, 16, 18, 20],\n",
    "#                \"colsample_bytree\": [0.1, 0.2, 0.3, 0.4, 0.5, 0.6, 0.7, 0.8, 0.9, 1.0],\n",
    "#                \"subsample\": [0.1, 0.2, 0.3, 0.4, 0.5, 0.6, 0.7, 0.8, 0.9],\n",
    "#                \"reg_alpha\": [0, 0.2, 0.3, 0.4, 0.5, 0.6, 0.7, 0.8, 0.9, 1],\n",
    "#                \"reg_lambda\": [1, 1.5, 2, 3, 4.5, 4, 5],\n",
    "#                \"min_child_weight\": [1, 2, 3, 4, 5, 6, 7, 8, 9, 10],\n",
    "#                \"n_estimators\": [100, 250, 500, 1000]}\n",
    "\n",
    "# from sklearn.model_selection import RandomizedSearchCV\n",
    "# # Create RandomizedSearchCV Object\n",
    "# xgb_rscv = RandomizedSearchCV(xgb_clf, param_distributions = parameters, scoring = \"f1_micro\",\n",
    "#                              cv = 10, verbose = 3, random_state = 40 )\n",
    "           \n",
    "# # Fit the model\n",
    "# model_xgboost = xgb_rscv.fit(X_train_vector, y_train)\n",
    "\n",
    "# # Model best estimators\n",
    "# print(\"Learning Rate: \", model_xgboost.best_estimator_.get_params()[\"learning_rate\"])\n",
    "# print(\"Gamma: \", model_xgboost.best_estimator_.get_params()[\"gamma\"])\n",
    "# print(\"Max Depth: \", model_xgboost.best_estimator_.get_params()[\"max_depth\"])\n",
    "# print(\"Subsample: \", model_xgboost.best_estimator_.get_params()[\"subsample\"])\n",
    "# print(\"Colsample Bytree: \", model_xgboost.best_estimator_.get_params()[\"colsample_bytree\"])\n",
    "# print(\"Colsample Bylevel: \", model_xgboost.best_estimator_.get_params()[\"colsample_bylevel\"])\n",
    "# print(\"Alpha: \", model_xgboost.best_estimator_.get_params()[\"reg_alpha\"])\n",
    "# print(\"Lamda: \", model_xgboost.best_estimator_.get_params()[\"reg_lambda\"])\n",
    "# print(\"Min Child Weight: \", model_xgboost.best_estimator_.get_params()[\"min_child_weight\"])\n",
    "# print(\"Number of Trees: \", model_xgboost.best_estimator_.get_params()[\"n_estimators\"])"
   ]
  },
  {
   "cell_type": "code",
   "execution_count": null,
   "metadata": {
    "colab": {},
    "colab_type": "code",
    "id": "1lpmb_JqUIv0"
   },
   "outputs": [],
   "source": []
  }
 ],
 "metadata": {
  "accelerator": "GPU",
  "colab": {
   "authorship_tag": "ABX9TyMw4FrFMKiaH5QWDLNQVIaX",
   "collapsed_sections": [],
   "name": "XGBWeightPositif.ipynb",
   "provenance": []
  },
  "kernelspec": {
   "display_name": "Python 3",
   "language": "python",
   "name": "python3"
  },
  "language_info": {
   "codemirror_mode": {
    "name": "ipython",
    "version": 3
   },
   "file_extension": ".py",
   "mimetype": "text/x-python",
   "name": "python",
   "nbconvert_exporter": "python",
   "pygments_lexer": "ipython3",
   "version": "3.7.6"
  }
 },
 "nbformat": 4,
 "nbformat_minor": 1
}
