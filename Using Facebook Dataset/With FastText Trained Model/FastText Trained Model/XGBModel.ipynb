{
 "cells": [
  {
   "cell_type": "code",
   "execution_count": 1,
   "metadata": {},
   "outputs": [
    {
     "name": "stderr",
     "output_type": "stream",
     "text": [
      "unable to import 'smart_open.gcs', disabling that module\n",
      "[nltk_data] Downloading package punkt to\n",
      "[nltk_data]     C:\\Users\\egapa\\AppData\\Roaming\\nltk_data...\n",
      "[nltk_data]   Package punkt is already up-to-date!\n"
     ]
    },
    {
     "data": {
      "text/plain": [
       "True"
      ]
     },
     "execution_count": 1,
     "metadata": {},
     "output_type": "execute_result"
    }
   ],
   "source": [
    "import string\n",
    "import numpy as np\n",
    "import pandas as pd\n",
    "import nltk\n",
    "import matplotlib.pyplot as plt\n",
    "import gensim \n",
    "import fasttext\n",
    "\n",
    "from sklearn.decomposition import PCA\n",
    "from gensim.models import FastText as FT_gensim\n",
    "from gensim.test.utils import datapath\n",
    "from gensim.models.wrappers import FastText as FT\n",
    "\n",
    "%matplotlib inline\n",
    "nltk.download('punkt')"
   ]
  },
  {
   "cell_type": "code",
   "execution_count": 2,
   "metadata": {
    "scrolled": true
   },
   "outputs": [
    {
     "data": {
      "text/html": [
       "<div>\n",
       "<style scoped>\n",
       "    .dataframe tbody tr th:only-of-type {\n",
       "        vertical-align: middle;\n",
       "    }\n",
       "\n",
       "    .dataframe tbody tr th {\n",
       "        vertical-align: top;\n",
       "    }\n",
       "\n",
       "    .dataframe thead th {\n",
       "        text-align: right;\n",
       "    }\n",
       "</style>\n",
       "<table border=\"1\" class=\"dataframe\">\n",
       "  <thead>\n",
       "    <tr style=\"text-align: right;\">\n",
       "      <th></th>\n",
       "      <th>id_pembuat</th>\n",
       "      <th>id_status</th>\n",
       "      <th>nama_pembuat</th>\n",
       "      <th>teks_status</th>\n",
       "      <th>gambar_status</th>\n",
       "      <th>url_komentar</th>\n",
       "      <th>waktu_status</th>\n",
       "      <th>id_komentar</th>\n",
       "      <th>id_user_komen</th>\n",
       "      <th>komentar</th>\n",
       "      <th>waktu_komen</th>\n",
       "      <th>label</th>\n",
       "    </tr>\n",
       "  </thead>\n",
       "  <tbody>\n",
       "    <tr>\n",
       "      <th>0</th>\n",
       "      <td>23383061178</td>\n",
       "      <td>23383061178_10152076252911179</td>\n",
       "      <td>Bang Nafie</td>\n",
       "      <td>Saya banyak belajar prinsip-prinsip kehidupan ...</td>\n",
       "      <td>https://fbexternal-a.akamaihd.net/safe_image.p...</td>\n",
       "      <td>https://www.facebook.com/23383061178/posts/101...</td>\n",
       "      <td>2014-06-05 03:54:47</td>\n",
       "      <td>10152076252516179_10152076253441179</td>\n",
       "      <td>794948677210695</td>\n",
       "      <td>Oke pak boss!!</td>\n",
       "      <td>2014-06-05 03:55:15</td>\n",
       "      <td>positif</td>\n",
       "    </tr>\n",
       "    <tr>\n",
       "      <th>1</th>\n",
       "      <td>23383061178</td>\n",
       "      <td>23383061178_10152076252911179</td>\n",
       "      <td>Sumy Kakasyi Suhaimy</td>\n",
       "      <td>Saya banyak belajar prinsip-prinsip kehidupan ...</td>\n",
       "      <td>https://fbexternal-a.akamaihd.net/safe_image.p...</td>\n",
       "      <td>https://www.facebook.com/23383061178/posts/101...</td>\n",
       "      <td>2014-06-05 03:54:47</td>\n",
       "      <td>10152076252516179_10152076253906179</td>\n",
       "      <td>355122887988412</td>\n",
       "      <td>Jangan dusta</td>\n",
       "      <td>2014-06-05 03:55:29</td>\n",
       "      <td>negatif</td>\n",
       "    </tr>\n",
       "    <tr>\n",
       "      <th>2</th>\n",
       "      <td>23383061178</td>\n",
       "      <td>23383061178_10152076252911179</td>\n",
       "      <td>Roberto Red</td>\n",
       "      <td>Saya banyak belajar prinsip-prinsip kehidupan ...</td>\n",
       "      <td>https://fbexternal-a.akamaihd.net/safe_image.p...</td>\n",
       "      <td>https://www.facebook.com/23383061178/posts/101...</td>\n",
       "      <td>2014-06-05 03:54:47</td>\n",
       "      <td>10152076252516179_10152076253996179</td>\n",
       "      <td>297825977080553</td>\n",
       "      <td>PROBOWO is the WINNER of PEMILU 2014</td>\n",
       "      <td>2014-06-05 03:55:32</td>\n",
       "      <td>positif</td>\n",
       "    </tr>\n",
       "    <tr>\n",
       "      <th>3</th>\n",
       "      <td>23383061178</td>\n",
       "      <td>23383061178_10152076252911179</td>\n",
       "      <td>Sugiarman Arman</td>\n",
       "      <td>Saya banyak belajar prinsip-prinsip kehidupan ...</td>\n",
       "      <td>https://fbexternal-a.akamaihd.net/safe_image.p...</td>\n",
       "      <td>https://www.facebook.com/23383061178/posts/101...</td>\n",
       "      <td>2014-06-05 03:54:47</td>\n",
       "      <td>10152076252516179_10152076254066179</td>\n",
       "      <td>298708870333739</td>\n",
       "      <td>ilmu padi</td>\n",
       "      <td>2014-06-05 03:55:35</td>\n",
       "      <td>netral</td>\n",
       "    </tr>\n",
       "    <tr>\n",
       "      <th>4</th>\n",
       "      <td>23383061178</td>\n",
       "      <td>23383061178_10152076252911179</td>\n",
       "      <td>Rio Corps Taruna</td>\n",
       "      <td>Saya banyak belajar prinsip-prinsip kehidupan ...</td>\n",
       "      <td>https://fbexternal-a.akamaihd.net/safe_image.p...</td>\n",
       "      <td>https://www.facebook.com/23383061178/posts/101...</td>\n",
       "      <td>2014-06-05 03:54:47</td>\n",
       "      <td>10152076252516179_10152076254216179</td>\n",
       "      <td>1523715244533780</td>\n",
       "      <td>Hidup Pak Prabowo ..</td>\n",
       "      <td>2014-06-05 03:55:42</td>\n",
       "      <td>positif</td>\n",
       "    </tr>\n",
       "    <tr>\n",
       "      <th>...</th>\n",
       "      <td>...</td>\n",
       "      <td>...</td>\n",
       "      <td>...</td>\n",
       "      <td>...</td>\n",
       "      <td>...</td>\n",
       "      <td>...</td>\n",
       "      <td>...</td>\n",
       "      <td>...</td>\n",
       "      <td>...</td>\n",
       "      <td>...</td>\n",
       "      <td>...</td>\n",
       "      <td>...</td>\n",
       "    </tr>\n",
       "    <tr>\n",
       "      <th>3359</th>\n",
       "      <td>249750628565406</td>\n",
       "      <td>249750628565406_276917339182068</td>\n",
       "      <td>Anita Rizkia</td>\n",
       "      <td>Dukungan anda semua adalah amanah, dan apapun ...</td>\n",
       "      <td>https://fbexternal-a.akamaihd.net/safe_image.p...</td>\n",
       "      <td>https://www.facebook.com/249750628565406/posts...</td>\n",
       "      <td>2014-07-09 03:19:51</td>\n",
       "      <td>276891429184659_276927652514370</td>\n",
       "      <td>967613349931842</td>\n",
       "      <td>salam 2 jari</td>\n",
       "      <td>2014-07-09 03:25:45</td>\n",
       "      <td>positif</td>\n",
       "    </tr>\n",
       "    <tr>\n",
       "      <th>3360</th>\n",
       "      <td>249750628565406</td>\n",
       "      <td>249750628565406_276917339182068</td>\n",
       "      <td>Ari Bin Abu Bakar</td>\n",
       "      <td>Dukungan anda semua adalah amanah, dan apapun ...</td>\n",
       "      <td>https://fbexternal-a.akamaihd.net/safe_image.p...</td>\n",
       "      <td>https://www.facebook.com/249750628565406/posts...</td>\n",
       "      <td>2014-07-09 03:19:51</td>\n",
       "      <td>276891429184659_276918865848582</td>\n",
       "      <td>773356856051191</td>\n",
       "      <td>Jujur, ketika Ane membuka Surat Suara tadi, An...</td>\n",
       "      <td>2014-07-09 03:21:40</td>\n",
       "      <td>negatif</td>\n",
       "    </tr>\n",
       "    <tr>\n",
       "      <th>3361</th>\n",
       "      <td>249750628565406</td>\n",
       "      <td>249750628565406_276917339182068</td>\n",
       "      <td>Agek James</td>\n",
       "      <td>Dukungan anda semua adalah amanah, dan apapun ...</td>\n",
       "      <td>https://fbexternal-a.akamaihd.net/safe_image.p...</td>\n",
       "      <td>https://www.facebook.com/249750628565406/posts...</td>\n",
       "      <td>2014-07-09 03:19:51</td>\n",
       "      <td>276891429184659_276921042515031</td>\n",
       "      <td>710343512387954</td>\n",
       "      <td>BAPAK JOKOWI KAMI SEMUA RAKYAT INGIN BAPAK JD ...</td>\n",
       "      <td>2014-07-09 03:24:02</td>\n",
       "      <td>positif</td>\n",
       "    </tr>\n",
       "    <tr>\n",
       "      <th>3362</th>\n",
       "      <td>249750628565406</td>\n",
       "      <td>249750628565406_276917339182068</td>\n",
       "      <td>ChairudinDr Humaniora</td>\n",
       "      <td>Dukungan anda semua adalah amanah, dan apapun ...</td>\n",
       "      <td>https://fbexternal-a.akamaihd.net/safe_image.p...</td>\n",
       "      <td>https://www.facebook.com/249750628565406/posts...</td>\n",
       "      <td>2014-07-09 03:19:51</td>\n",
       "      <td>276891429184659_276931322514003</td>\n",
       "      <td>10152763210314600</td>\n",
       "      <td>Tanda2 alam, pemilu 2day on  9 Juli (9-7= 2) ,...</td>\n",
       "      <td>2014-07-09 03:26:36</td>\n",
       "      <td>positif</td>\n",
       "    </tr>\n",
       "    <tr>\n",
       "      <th>3363</th>\n",
       "      <td>249750628565406</td>\n",
       "      <td>249750628565406_276917339182068</td>\n",
       "      <td>Wahyu Setyo Nugroho</td>\n",
       "      <td>Dukungan anda semua adalah amanah, dan apapun ...</td>\n",
       "      <td>https://fbexternal-a.akamaihd.net/safe_image.p...</td>\n",
       "      <td>https://www.facebook.com/249750628565406/posts...</td>\n",
       "      <td>2014-07-09 03:19:51</td>\n",
       "      <td>276891429184659_276918872515248</td>\n",
       "      <td>830713220314118</td>\n",
       "      <td>Dosa dosa Prabowo\\n admin  Tolak Lupa\\n1. Mari...</td>\n",
       "      <td>2014-07-09 03:21:40</td>\n",
       "      <td>positif</td>\n",
       "    </tr>\n",
       "  </tbody>\n",
       "</table>\n",
       "<p>3364 rows × 12 columns</p>\n",
       "</div>"
      ],
      "text/plain": [
       "           id_pembuat                        id_status           nama_pembuat  \\\n",
       "0         23383061178    23383061178_10152076252911179             Bang Nafie   \n",
       "1         23383061178    23383061178_10152076252911179   Sumy Kakasyi Suhaimy   \n",
       "2         23383061178    23383061178_10152076252911179            Roberto Red   \n",
       "3         23383061178    23383061178_10152076252911179        Sugiarman Arman   \n",
       "4         23383061178    23383061178_10152076252911179       Rio Corps Taruna   \n",
       "...               ...                              ...                    ...   \n",
       "3359  249750628565406  249750628565406_276917339182068           Anita Rizkia   \n",
       "3360  249750628565406  249750628565406_276917339182068      Ari Bin Abu Bakar   \n",
       "3361  249750628565406  249750628565406_276917339182068             Agek James   \n",
       "3362  249750628565406  249750628565406_276917339182068  ChairudinDr Humaniora   \n",
       "3363  249750628565406  249750628565406_276917339182068    Wahyu Setyo Nugroho   \n",
       "\n",
       "                                            teks_status  \\\n",
       "0     Saya banyak belajar prinsip-prinsip kehidupan ...   \n",
       "1     Saya banyak belajar prinsip-prinsip kehidupan ...   \n",
       "2     Saya banyak belajar prinsip-prinsip kehidupan ...   \n",
       "3     Saya banyak belajar prinsip-prinsip kehidupan ...   \n",
       "4     Saya banyak belajar prinsip-prinsip kehidupan ...   \n",
       "...                                                 ...   \n",
       "3359  Dukungan anda semua adalah amanah, dan apapun ...   \n",
       "3360  Dukungan anda semua adalah amanah, dan apapun ...   \n",
       "3361  Dukungan anda semua adalah amanah, dan apapun ...   \n",
       "3362  Dukungan anda semua adalah amanah, dan apapun ...   \n",
       "3363  Dukungan anda semua adalah amanah, dan apapun ...   \n",
       "\n",
       "                                          gambar_status  \\\n",
       "0     https://fbexternal-a.akamaihd.net/safe_image.p...   \n",
       "1     https://fbexternal-a.akamaihd.net/safe_image.p...   \n",
       "2     https://fbexternal-a.akamaihd.net/safe_image.p...   \n",
       "3     https://fbexternal-a.akamaihd.net/safe_image.p...   \n",
       "4     https://fbexternal-a.akamaihd.net/safe_image.p...   \n",
       "...                                                 ...   \n",
       "3359  https://fbexternal-a.akamaihd.net/safe_image.p...   \n",
       "3360  https://fbexternal-a.akamaihd.net/safe_image.p...   \n",
       "3361  https://fbexternal-a.akamaihd.net/safe_image.p...   \n",
       "3362  https://fbexternal-a.akamaihd.net/safe_image.p...   \n",
       "3363  https://fbexternal-a.akamaihd.net/safe_image.p...   \n",
       "\n",
       "                                           url_komentar        waktu_status  \\\n",
       "0     https://www.facebook.com/23383061178/posts/101... 2014-06-05 03:54:47   \n",
       "1     https://www.facebook.com/23383061178/posts/101... 2014-06-05 03:54:47   \n",
       "2     https://www.facebook.com/23383061178/posts/101... 2014-06-05 03:54:47   \n",
       "3     https://www.facebook.com/23383061178/posts/101... 2014-06-05 03:54:47   \n",
       "4     https://www.facebook.com/23383061178/posts/101... 2014-06-05 03:54:47   \n",
       "...                                                 ...                 ...   \n",
       "3359  https://www.facebook.com/249750628565406/posts... 2014-07-09 03:19:51   \n",
       "3360  https://www.facebook.com/249750628565406/posts... 2014-07-09 03:19:51   \n",
       "3361  https://www.facebook.com/249750628565406/posts... 2014-07-09 03:19:51   \n",
       "3362  https://www.facebook.com/249750628565406/posts... 2014-07-09 03:19:51   \n",
       "3363  https://www.facebook.com/249750628565406/posts... 2014-07-09 03:19:51   \n",
       "\n",
       "                              id_komentar      id_user_komen  \\\n",
       "0     10152076252516179_10152076253441179    794948677210695   \n",
       "1     10152076252516179_10152076253906179    355122887988412   \n",
       "2     10152076252516179_10152076253996179    297825977080553   \n",
       "3     10152076252516179_10152076254066179    298708870333739   \n",
       "4     10152076252516179_10152076254216179   1523715244533780   \n",
       "...                                   ...                ...   \n",
       "3359      276891429184659_276927652514370    967613349931842   \n",
       "3360      276891429184659_276918865848582    773356856051191   \n",
       "3361      276891429184659_276921042515031    710343512387954   \n",
       "3362      276891429184659_276931322514003  10152763210314600   \n",
       "3363      276891429184659_276918872515248    830713220314118   \n",
       "\n",
       "                                               komentar         waktu_komen  \\\n",
       "0                                        Oke pak boss!! 2014-06-05 03:55:15   \n",
       "1                                          Jangan dusta 2014-06-05 03:55:29   \n",
       "2                  PROBOWO is the WINNER of PEMILU 2014 2014-06-05 03:55:32   \n",
       "3                                             ilmu padi 2014-06-05 03:55:35   \n",
       "4                                  Hidup Pak Prabowo .. 2014-06-05 03:55:42   \n",
       "...                                                 ...                 ...   \n",
       "3359                                       salam 2 jari 2014-07-09 03:25:45   \n",
       "3360  Jujur, ketika Ane membuka Surat Suara tadi, An... 2014-07-09 03:21:40   \n",
       "3361  BAPAK JOKOWI KAMI SEMUA RAKYAT INGIN BAPAK JD ... 2014-07-09 03:24:02   \n",
       "3362  Tanda2 alam, pemilu 2day on  9 Juli (9-7= 2) ,... 2014-07-09 03:26:36   \n",
       "3363  Dosa dosa Prabowo\\n admin  Tolak Lupa\\n1. Mari... 2014-07-09 03:21:40   \n",
       "\n",
       "        label  \n",
       "0     positif  \n",
       "1     negatif  \n",
       "2     positif  \n",
       "3      netral  \n",
       "4     positif  \n",
       "...       ...  \n",
       "3359  positif  \n",
       "3360  negatif  \n",
       "3361  positif  \n",
       "3362  positif  \n",
       "3363  positif  \n",
       "\n",
       "[3364 rows x 12 columns]"
      ]
     },
     "execution_count": 2,
     "metadata": {},
     "output_type": "execute_result"
    }
   ],
   "source": [
    "df = pd.read_excel(\"../pemilu.xlsx\")\n",
    "df"
   ]
  },
  {
   "cell_type": "code",
   "execution_count": 3,
   "metadata": {},
   "outputs": [
    {
     "name": "stderr",
     "output_type": "stream",
     "text": [
      "[nltk_data] Downloading package punkt to\n",
      "[nltk_data]     C:\\Users\\egapa\\AppData\\Roaming\\nltk_data...\n",
      "[nltk_data]   Package punkt is already up-to-date!\n"
     ]
    },
    {
     "data": {
      "text/plain": [
       "0                                        [oke, pak, boss]\n",
       "1                                         [jangan, dusta]\n",
       "2                  [probowo, is, the, winner, of, pemilu]\n",
       "3                                            [ilmu, padi]\n",
       "4                                   [hidup, pak, prabowo]\n",
       "                              ...                        \n",
       "3359                                        [salam, jari]\n",
       "3360    [jujur, ketika, ane, membuka, surat, suara, ta...\n",
       "3361    [bapak, jokowi, kami, semua, rakyat, ingin, ba...\n",
       "3362    [tanda, alam, pemilu, day, on, juli, hasil, je...\n",
       "3363    [dosa, dosa, prabowo, admin, tolak, lupa, mari...\n",
       "Name: komentar, Length: 3364, dtype: object"
      ]
     },
     "execution_count": 3,
     "metadata": {},
     "output_type": "execute_result"
    }
   ],
   "source": [
    "import re\n",
    "import string\n",
    "\n",
    "nltk.download('punkt')\n",
    "\n",
    "komentar = df['komentar'].astype(str)\n",
    "\n",
    "#Lower case\n",
    "komentar = komentar.apply(lambda x: x.lower())\n",
    "\n",
    "#Remove URL\n",
    "komentar = komentar.apply(lambda x: re.sub('https?://[A-Za-z0-9./]+','',x))\n",
    "komentar = komentar.apply(lambda x: re.sub('http?://[A-Za-z0-9./]+','',x))\n",
    "\n",
    "#Remove Number\n",
    "komentar = komentar.apply(lambda x: re.sub(r\"\\d\", \"\", x))\n",
    "\n",
    "#Before Punctuation\n",
    "komentar = komentar.apply(lambda x: re.sub(r'(?<=[,.])(?=[^\\s])', r' ', x))\n",
    "\n",
    "#Punctuation\n",
    "komentar = komentar.apply(lambda x: x.translate(str.maketrans('', '', string.punctuation)))\n",
    "\n",
    "#Remove Non Alphanumeric\n",
    "komentar = komentar.apply(lambda x: re.sub(r'([^\\s\\w]|_)+', '', x))\n",
    "\n",
    "#Tokenizing\n",
    "komentar = komentar.apply(lambda x: nltk.tokenize.word_tokenize(x))\n",
    "\n",
    "komentar"
   ]
  },
  {
   "cell_type": "code",
   "execution_count": 4,
   "metadata": {},
   "outputs": [],
   "source": [
    "model_gensim = FT_gensim(size=300, \n",
    "                         negative=5, \n",
    "                         min_count=1, \n",
    "                         min_n=2, \n",
    "                         max_n=3, \n",
    "                         sg=0, \n",
    "                         sorted_vocab=1, \n",
    "                         word_ngrams=1, \n",
    "                         window=5, \n",
    "                         callbacks=(),\n",
    "                         ns_exponent=0.75, \n",
    "                         cbow_mean=0, \n",
    "                         workers=5, \n",
    "                         alpha=0.1, \n",
    "                         min_alpha=0.025)"
   ]
  },
  {
   "cell_type": "code",
   "execution_count": 5,
   "metadata": {},
   "outputs": [],
   "source": [
    "model_gensim.build_vocab(komentar)"
   ]
  },
  {
   "cell_type": "code",
   "execution_count": 6,
   "metadata": {},
   "outputs": [],
   "source": [
    "total_examples = model_gensim.corpus_count\n",
    "model_gensim.train(\n",
    "    sentences=komentar,\n",
    "    total_examples=total_examples, \n",
    "    epochs = 100\n",
    ")"
   ]
  },
  {
   "cell_type": "code",
   "execution_count": 7,
   "metadata": {},
   "outputs": [],
   "source": [
    "model_gensim.save('XGB.bin')\n",
    "loaded_model = FT_gensim.load('XGB.bin')"
   ]
  },
  {
   "cell_type": "code",
   "execution_count": 8,
   "metadata": {},
   "outputs": [
    {
     "data": {
      "text/plain": [
       "0.3804822"
      ]
     },
     "execution_count": 8,
     "metadata": {},
     "output_type": "execute_result"
    }
   ],
   "source": [
    "loaded_model.wv.similarity(\"bagus\", \"buruk\")"
   ]
  },
  {
   "cell_type": "code",
   "execution_count": 9,
   "metadata": {},
   "outputs": [
    {
     "data": {
      "text/plain": [
       "0.7016387581825256"
      ]
     },
     "execution_count": 9,
     "metadata": {},
     "output_type": "execute_result"
    }
   ],
   "source": [
    "loaded_model.wv.distance(\"bagus\", \"jelek\")"
   ]
  },
  {
   "cell_type": "code",
   "execution_count": 10,
   "metadata": {},
   "outputs": [
    {
     "data": {
      "text/plain": [
       "[('jelekan', 0.8802781105041504),\n",
       " ('elek', 0.8547999858856201),\n",
       " ('jelekin', 0.8545606732368469),\n",
       " ('dijelekjelekkan', 0.8218790292739868),\n",
       " ('menjelekjelekan', 0.8163007497787476)]"
      ]
     },
     "execution_count": 10,
     "metadata": {},
     "output_type": "execute_result"
    }
   ],
   "source": [
    "loaded_model.wv.most_similar(positive=\"jelek\", topn=5)"
   ]
  },
  {
   "cell_type": "code",
   "execution_count": 11,
   "metadata": {},
   "outputs": [
    {
     "data": {
      "text/plain": [
       "[('agus', 0.9291471838951111),\n",
       " ('tokobagus', 0.9229384660720825),\n",
       " ('bagusnya', 0.9105827212333679),\n",
       " ('bagusan', 0.8943366408348083),\n",
       " ('gus', 0.8666254281997681)]"
      ]
     },
     "execution_count": 11,
     "metadata": {},
     "output_type": "execute_result"
    }
   ],
   "source": [
    "loaded_model.wv.most_similar_cosmul(positive=\"bagus\", negative=None, topn=5)"
   ]
  },
  {
   "cell_type": "code",
   "execution_count": 12,
   "metadata": {},
   "outputs": [
    {
     "data": {
      "text/plain": [
       "{'mantap': ['mantapp', 'mantappop', 'mantappp', 'mantapppz', 'mantaaap'],\n",
       " 'keren': ['kerenn', 'kerenz', 'kerennn', 'kerena', 'kerennnn'],\n",
       " 'bagus': ['agus', 'tokobagus', 'bagusnya', 'bagusan', 'gus'],\n",
       " 'jelek': ['jelekan', 'elek', 'jelekin', 'dijelekjelekkan', 'menjelekjelekan'],\n",
       " 'parah': ['parahh', 'pasrah', 'para', 'parade', 'arah'],\n",
       " 'cepat': ['crpat', 'cepatkan', 'tepat', 'cepet', 'dpat']}"
      ]
     },
     "execution_count": 12,
     "metadata": {},
     "output_type": "execute_result"
    }
   ],
   "source": [
    "similar_words = {search_term: [item[0] for item in loaded_model.wv.most_similar([search_term], topn=5)]\n",
    "                for search_term in ['mantap', 'keren', 'bagus', 'jelek', 'parah', 'cepat']}\n",
    "similar_words"
   ]
  },
  {
   "cell_type": "code",
   "execution_count": 13,
   "metadata": {},
   "outputs": [
    {
     "data": {
      "image/png": "[encoded data removed]",
      "text/plain": [
       "<Figure size 1440x720 with 1 Axes>"
      ]
     },
     "metadata": {
      "needs_background": "light"
     },
     "output_type": "display_data"
    }
   ],
   "source": [
    "words = sum([[k] + v for k, v in similar_words.items()], [])\n",
    "wvs = loaded_model.wv[words]\n",
    "\n",
    "pca = PCA(n_components=2)\n",
    "np.set_printoptions(suppress=True)\n",
    "P = pca.fit_transform(wvs)\n",
    "labels = words\n",
    "\n",
    "plt.figure(figsize=(20, 10))\n",
    "plt.scatter(P[:, 0], P[:, 1], c='green', edgecolors='g')\n",
    "for label, x, y in zip(labels, P[:, 0], P[:, 1]):\n",
    "    plt.annotate(label, xy=(x+0.06, y+0.03), xytext=(0, 0), textcoords='offset points')"
   ]
  },
  {
   "cell_type": "code",
   "execution_count": null,
   "metadata": {},
   "outputs": [],
   "source": []
  }
 ],
 "metadata": {
  "kernelspec": {
   "display_name": "Python 3",
   "language": "python",
   "name": "python3"
  },
  "language_info": {
   "codemirror_mode": {
    "name": "ipython",
    "version": 3
   },
   "file_extension": ".py",
   "mimetype": "text/x-python",
   "name": "python",
   "nbconvert_exporter": "python",
   "pygments_lexer": "ipython3",
   "version": "3.7.6"
  }
 },
 "nbformat": 4,
 "nbformat_minor": 4
}
