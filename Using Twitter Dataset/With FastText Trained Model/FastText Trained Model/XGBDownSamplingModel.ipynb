{
 "cells": [
  {
   "cell_type": "code",
   "execution_count": 1,
   "metadata": {},
   "outputs": [
    {
     "name": "stderr",
     "output_type": "stream",
     "text": [
      "[nltk_data] Downloading package punkt to\n",
      "[nltk_data]     C:\\Users\\egapa\\AppData\\Roaming\\nltk_data...\n",
      "[nltk_data]   Package punkt is already up-to-date!\n"
     ]
    },
    {
     "data": {
      "text/plain": [
       "True"
      ]
     },
     "execution_count": 1,
     "metadata": {},
     "output_type": "execute_result"
    }
   ],
   "source": [
    "import string\n",
    "import re\n",
    "import numpy as np\n",
    "import pandas as pd\n",
    "import nltk\n",
    "import matplotlib.pyplot as plt\n",
    "import gensim \n",
    "\n",
    "from sklearn.decomposition import PCA\n",
    "from gensim.models import FastText as FT_gensim\n",
    "from gensim.test.utils import datapath\n",
    "from gensim.models.wrappers import FastText as FT\n",
    "from sklearn.model_selection import train_test_split\n",
    "from sklearn.utils import resample\n",
    "\n",
    "%matplotlib inline\n",
    "nltk.download('punkt')"
   ]
  },
  {
   "cell_type": "code",
   "execution_count": 2,
   "metadata": {},
   "outputs": [
    {
     "data": {
      "text/html": [
       "<div>\n",
       "<style scoped>\n",
       "    .dataframe tbody tr th:only-of-type {\n",
       "        vertical-align: middle;\n",
       "    }\n",
       "\n",
       "    .dataframe tbody tr th {\n",
       "        vertical-align: top;\n",
       "    }\n",
       "\n",
       "    .dataframe thead th {\n",
       "        text-align: right;\n",
       "    }\n",
       "</style>\n",
       "<table border=\"1\" class=\"dataframe\">\n",
       "  <thead>\n",
       "    <tr style=\"text-align: right;\">\n",
       "      <th></th>\n",
       "      <th>label</th>\n",
       "      <th>komentar</th>\n",
       "    </tr>\n",
       "  </thead>\n",
       "  <tbody>\n",
       "    <tr>\n",
       "      <th>0</th>\n",
       "      <td>positif</td>\n",
       "      <td>Kepingin gudeg mbarek Bu hj. Amad Foto dari go...</td>\n",
       "    </tr>\n",
       "    <tr>\n",
       "      <th>1</th>\n",
       "      <td>positif</td>\n",
       "      <td>Sharing pengalaman aja, kemarin jam 18.00 bata...</td>\n",
       "    </tr>\n",
       "    <tr>\n",
       "      <th>2</th>\n",
       "      <td>positif</td>\n",
       "      <td>Sharing sama temen tuh emg guna bgt. Disaat lu...</td>\n",
       "    </tr>\n",
       "    <tr>\n",
       "      <th>3</th>\n",
       "      <td>positif</td>\n",
       "      <td>sangat bersyukur bisa mendoakan kakeknya, Bung...</td>\n",
       "    </tr>\n",
       "    <tr>\n",
       "      <th>4</th>\n",
       "      <td>positif</td>\n",
       "      <td>H-9. Mau ke bank rame bgt ampe antrian tempat ...</td>\n",
       "    </tr>\n",
       "  </tbody>\n",
       "</table>\n",
       "</div>"
      ],
      "text/plain": [
       "     label                                           komentar\n",
       "0  positif  Kepingin gudeg mbarek Bu hj. Amad Foto dari go...\n",
       "1  positif  Sharing pengalaman aja, kemarin jam 18.00 bata...\n",
       "2  positif  Sharing sama temen tuh emg guna bgt. Disaat lu...\n",
       "3  positif  sangat bersyukur bisa mendoakan kakeknya, Bung...\n",
       "4  positif  H-9. Mau ke bank rame bgt ampe antrian tempat ..."
      ]
     },
     "execution_count": 2,
     "metadata": {},
     "output_type": "execute_result"
    }
   ],
   "source": [
    "df = pd.read_excel(\"../dataset_twitter.xlsx\")\n",
    "df.head()"
   ]
  },
  {
   "cell_type": "code",
   "execution_count": 3,
   "metadata": {},
   "outputs": [],
   "source": [
    "df = df[df.komentar.astype(bool)]\n",
    "\n",
    "df_pos = df[df['label'] == 'positif']\n",
    "X_pos_text = df_pos['komentar']\n",
    "y_pos_label = df_pos['label']\n",
    "\n",
    "df_neg = df[df['label'] == 'negatif']\n",
    "X_neg_text = df_neg['komentar']\n",
    "y_neg_label = df_neg['label']\n",
    "\n",
    "df_net = df[df['label'] == 'netral']\n",
    "X_net_text = df_net['komentar']\n",
    "y_net_label = df_net['label']"
   ]
  },
  {
   "cell_type": "code",
   "execution_count": 4,
   "metadata": {},
   "outputs": [],
   "source": [
    "# X_pos_train_down = resample(X_pos_text, replace=True, n_samples=int(len(X_net_text)))\n",
    "# y_pos_train_down = resample(y_pos_label, replace=True, n_samples=int(len(y_net_label)))\n",
    "\n",
    "# X_neg_train_down = resample(X_neg_train, replace=True, n_samples=int(len(X_net_text)))\n",
    "# y_neg_train_down = resample(y_neg_train, replace=True, n_samples=int(len(y_net_label)))\n",
    "\n",
    "df_pos_down = resample(df_pos, replace=True, n_samples=int(len(df_net)))\n",
    "df_neg_down = resample(df_neg, replace=True, n_samples=int(len(df_net)))"
   ]
  },
  {
   "cell_type": "code",
   "execution_count": 5,
   "metadata": {},
   "outputs": [],
   "source": [
    "# X_train = pd.concat([X_net_train, X_pos_train_down])\n",
    "# X_train = pd.concat([X_train, X_neg_train_down])\n",
    "# y_train = pd.concat([y_net_train, y_pos_train_down])\n",
    "# y_train = pd.concat([y_train, y_neg_train_down])\n",
    "\n",
    "# X_test = pd.concat([X_net_test, X_pos_test])\n",
    "# X_test = pd.concat([X_test, X_neg_test])\n",
    "# y_test = pd.concat([y_net_test, y_pos_test])\n",
    "# y_test = pd.concat([y_test, y_neg_test])\n",
    "\n",
    "df = pd.concat([df_net, df_pos_down])\n",
    "df = pd.concat([df, df_neg_down])"
   ]
  },
  {
   "cell_type": "code",
   "execution_count": 6,
   "metadata": {},
   "outputs": [
    {
     "data": {
      "text/plain": [
       "positif    997\n",
       "negatif    997\n",
       "netral     997\n",
       "Name: label, dtype: int64"
      ]
     },
     "execution_count": 6,
     "metadata": {},
     "output_type": "execute_result"
    }
   ],
   "source": [
    "df.label.value_counts()"
   ]
  },
  {
   "cell_type": "code",
   "execution_count": 7,
   "metadata": {},
   "outputs": [
    {
     "data": {
      "text/plain": [
       "2118    [orang, lain, kalau, pake, ponco, itu, buat, j...\n",
       "2119    [pulang, udah, h, lebaran, dilema, sekali, sep...\n",
       "2120    [sulit, menerima, kenyataan, memang, bahwa, ad...\n",
       "2121    [separuh, hati, ini, iri, jika, melihat, seora...\n",
       "2122    [dari, mau, tdr, tidur, sampe, bgn, tdr, kok, ...\n",
       "                              ...                        \n",
       "1122    [mak, lampir, dibully, karena, memberantas, ny...\n",
       "1356    [gue, juga, gak, ada, masalah, dengan, gitasav...\n",
       "1214    [siapa, sich, yg, dipercaya, fz, polisi, yg, s...\n",
       "1026    [sedap, kali, kau, ya, bobok, dikasur, ku, aku...\n",
       "1036    [nggak, ngerti, lagi, sama, ciwiciwi, yang, ny...\n",
       "Name: komentar, Length: 2991, dtype: object"
      ]
     },
     "execution_count": 7,
     "metadata": {},
     "output_type": "execute_result"
    }
   ],
   "source": [
    "komentar = df['komentar'].astype(str)\n",
    "\n",
    "# Huruf kecil\n",
    "komentar = komentar.apply(lambda x: x.lower())\n",
    "\n",
    "# Hapus URL\n",
    "komentar = komentar.apply(lambda x: re.sub(r'^https?:\\/\\/.*[\\r\\n]*', '', x, flags=re.MULTILINE))\n",
    "\n",
    "# Hapus angka\n",
    "komentar = komentar.apply(lambda x: re.sub(r\"\\d\", \"\", x))\n",
    "\n",
    "# Hapus tanda baca\n",
    "komentar = komentar.apply(lambda x: x.translate(str.maketrans('', '', string.punctuation)))\n",
    "\n",
    "# Hapus diluar alphabet dan numeric\n",
    "komentar = komentar.apply(lambda x: re.sub(r'([^\\s\\w]|_)+', '', x))\n",
    "\n",
    "# Tokenizing data\n",
    "komentar = komentar.apply(lambda x: nltk.tokenize.word_tokenize(x))\n",
    "\n",
    "komentar"
   ]
  },
  {
   "cell_type": "code",
   "execution_count": 8,
   "metadata": {},
   "outputs": [],
   "source": [
    "model_gensim = FT_gensim(size=300, \n",
    "                         negative=5, \n",
    "                         min_count=1, \n",
    "                         min_n=2, \n",
    "                         max_n=3, \n",
    "                         sg=0, \n",
    "                         sorted_vocab=1, \n",
    "                         word_ngrams=1, \n",
    "                         window=5, \n",
    "                         callbacks=(),\n",
    "                         ns_exponent=0.75, \n",
    "                         cbow_mean=0, \n",
    "                         workers=5, \n",
    "                         alpha=0.1, \n",
    "                         min_alpha=0.025)"
   ]
  },
  {
   "cell_type": "code",
   "execution_count": 9,
   "metadata": {},
   "outputs": [],
   "source": [
    "model_gensim.build_vocab(komentar)"
   ]
  },
  {
   "cell_type": "code",
   "execution_count": 10,
   "metadata": {},
   "outputs": [],
   "source": [
    "total_examples = model_gensim.corpus_count\n",
    "model_gensim.train(\n",
    "    sentences=komentar,\n",
    "    total_examples=total_examples, \n",
    "    epochs = 100\n",
    ")"
   ]
  },
  {
   "cell_type": "code",
   "execution_count": 11,
   "metadata": {},
   "outputs": [],
   "source": [
    "model_gensim.save('XGBDownSampling.bin')\n",
    "loaded_model = FT_gensim.load('XGBDownSampling.bin')"
   ]
  },
  {
   "cell_type": "code",
   "execution_count": 12,
   "metadata": {},
   "outputs": [
    {
     "data": {
      "text/plain": [
       "0.37622586"
      ]
     },
     "execution_count": 12,
     "metadata": {},
     "output_type": "execute_result"
    }
   ],
   "source": [
    "loaded_model.wv.similarity(\"bagus\", \"buruk\")"
   ]
  },
  {
   "cell_type": "code",
   "execution_count": 13,
   "metadata": {},
   "outputs": [
    {
     "data": {
      "text/plain": [
       "0.6302230358123779"
      ]
     },
     "execution_count": 13,
     "metadata": {},
     "output_type": "execute_result"
    }
   ],
   "source": [
    "loaded_model.wv.distance(\"bagus\", \"jelek\")"
   ]
  },
  {
   "cell_type": "code",
   "execution_count": 14,
   "metadata": {},
   "outputs": [
    {
     "data": {
      "text/plain": [
       "[('jeleknya', 0.8651484251022339),\n",
       " ('jek', 0.8622102737426758),\n",
       " ('jele', 0.8614435791969299),\n",
       " ('jelekin', 0.8608707785606384),\n",
       " ('melek', 0.7531708478927612)]"
      ]
     },
     "execution_count": 14,
     "metadata": {},
     "output_type": "execute_result"
    }
   ],
   "source": [
    "loaded_model.wv.most_similar(positive=\"jelek\", topn=5)"
   ]
  },
  {
   "cell_type": "code",
   "execution_count": 15,
   "metadata": {},
   "outputs": [
    {
     "data": {
      "text/plain": [
       "[('agus', 0.9349910616874695),\n",
       " ('bagusnya', 0.9245906472206116),\n",
       " ('sebagus', 0.9173062443733215),\n",
       " ('bagusan', 0.9156389236450195),\n",
       " ('baguslah', 0.914813220500946)]"
      ]
     },
     "execution_count": 15,
     "metadata": {},
     "output_type": "execute_result"
    }
   ],
   "source": [
    "loaded_model.wv.most_similar_cosmul(positive=\"bagus\", negative=None, topn=5)"
   ]
  },
  {
   "cell_type": "code",
   "execution_count": 16,
   "metadata": {},
   "outputs": [
    {
     "data": {
      "text/plain": [
       "{'mantap': ['mantapp', 'mantan', 'mantanmu', 'mantanmantan', 'mangap'],\n",
       " 'keren': ['kemren', 'kereta', 'kmren', 'ken', 'kelen'],\n",
       " 'bagus': ['agus', 'bagusnya', 'sebagus', 'bagusan', 'baguslah'],\n",
       " 'jelek': ['jeleknya', 'jek', 'jele', 'jelekin', 'melek'],\n",
       " 'parah': ['parahu', 'parahnya', 'pasrah', 'para', 'arah'],\n",
       " 'cepat': ['secepat', 'tepat', 'dipercepat', 'cenat', 'cepet']}"
      ]
     },
     "execution_count": 16,
     "metadata": {},
     "output_type": "execute_result"
    }
   ],
   "source": [
    "similar_words = {search_term: [item[0] for item in loaded_model.wv.most_similar([search_term], topn=5)]\n",
    "                for search_term in ['mantap', 'keren', 'bagus', 'jelek', 'parah', 'cepat']}\n",
    "similar_words"
   ]
  },
  {
   "cell_type": "code",
   "execution_count": 17,
   "metadata": {},
   "outputs": [
    {
     "data": {
      "image/png": "[encoded data removed]",
      "text/plain": [
       "<Figure size 1440x720 with 1 Axes>"
      ]
     },
     "metadata": {
      "needs_background": "light"
     },
     "output_type": "display_data"
    }
   ],
   "source": [
    "words = sum([[k] + v for k, v in similar_words.items()], [])\n",
    "wvs = loaded_model.wv[words]\n",
    "\n",
    "pca = PCA(n_components=2)\n",
    "np.set_printoptions(suppress=True)\n",
    "P = pca.fit_transform(wvs)\n",
    "labels = words\n",
    "\n",
    "plt.figure(figsize=(20, 10))\n",
    "plt.scatter(P[:, 0], P[:, 1], c='green', edgecolors='g')\n",
    "for label, x, y in zip(labels, P[:, 0], P[:, 1]):\n",
    "    plt.annotate(label, xy=(x+0.06, y+0.03), xytext=(0, 0), textcoords='offset points')"
   ]
  },
  {
   "cell_type": "code",
   "execution_count": null,
   "metadata": {},
   "outputs": [],
   "source": []
  }
 ],
 "metadata": {
  "kernelspec": {
   "display_name": "Python 3",
   "language": "python",
   "name": "python3"
  },
  "language_info": {
   "codemirror_mode": {
    "name": "ipython",
    "version": 3
   },
   "file_extension": ".py",
   "mimetype": "text/x-python",
   "name": "python",
   "nbconvert_exporter": "python",
   "pygments_lexer": "ipython3",
   "version": "3.7.6"
  }
 },
 "nbformat": 4,
 "nbformat_minor": 4
}
