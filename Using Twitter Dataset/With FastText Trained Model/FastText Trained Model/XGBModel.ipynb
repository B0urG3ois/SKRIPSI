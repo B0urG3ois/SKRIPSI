{
 "cells": [
  {
   "cell_type": "code",
   "execution_count": 1,
   "metadata": {},
   "outputs": [
    {
     "name": "stderr",
     "output_type": "stream",
     "text": [
      "[nltk_data] Downloading package punkt to\n",
      "[nltk_data]     C:\\Users\\egapa\\AppData\\Roaming\\nltk_data...\n",
      "[nltk_data]   Package punkt is already up-to-date!\n"
     ]
    },
    {
     "data": {
      "text/plain": [
       "True"
      ]
     },
     "execution_count": 1,
     "metadata": {},
     "output_type": "execute_result"
    }
   ],
   "source": [
    "import string\n",
    "import re\n",
    "import numpy as np\n",
    "import pandas as pd\n",
    "import nltk\n",
    "import matplotlib.pyplot as plt\n",
    "import gensim \n",
    "import fasttext\n",
    "\n",
    "from sklearn.decomposition import PCA\n",
    "from gensim.models import FastText as FT_gensim\n",
    "from gensim.test.utils import datapath\n",
    "from gensim.models.wrappers import FastText as FT\n",
    "\n",
    "%matplotlib inline\n",
    "nltk.download('punkt')"
   ]
  },
  {
   "cell_type": "code",
   "execution_count": 2,
   "metadata": {},
   "outputs": [
    {
     "data": {
      "text/html": [
       "<div>\n",
       "<style scoped>\n",
       "    .dataframe tbody tr th:only-of-type {\n",
       "        vertical-align: middle;\n",
       "    }\n",
       "\n",
       "    .dataframe tbody tr th {\n",
       "        vertical-align: top;\n",
       "    }\n",
       "\n",
       "    .dataframe thead th {\n",
       "        text-align: right;\n",
       "    }\n",
       "</style>\n",
       "<table border=\"1\" class=\"dataframe\">\n",
       "  <thead>\n",
       "    <tr style=\"text-align: right;\">\n",
       "      <th></th>\n",
       "      <th>label</th>\n",
       "      <th>komentar</th>\n",
       "    </tr>\n",
       "  </thead>\n",
       "  <tbody>\n",
       "    <tr>\n",
       "      <th>0</th>\n",
       "      <td>positif</td>\n",
       "      <td>Kepingin gudeg mbarek Bu hj. Amad Foto dari go...</td>\n",
       "    </tr>\n",
       "    <tr>\n",
       "      <th>1</th>\n",
       "      <td>positif</td>\n",
       "      <td>Sharing pengalaman aja, kemarin jam 18.00 bata...</td>\n",
       "    </tr>\n",
       "    <tr>\n",
       "      <th>2</th>\n",
       "      <td>positif</td>\n",
       "      <td>Sharing sama temen tuh emg guna bgt. Disaat lu...</td>\n",
       "    </tr>\n",
       "    <tr>\n",
       "      <th>3</th>\n",
       "      <td>positif</td>\n",
       "      <td>sangat bersyukur bisa mendoakan kakeknya, Bung...</td>\n",
       "    </tr>\n",
       "    <tr>\n",
       "      <th>4</th>\n",
       "      <td>positif</td>\n",
       "      <td>H-9. Mau ke bank rame bgt ampe antrian tempat ...</td>\n",
       "    </tr>\n",
       "    <tr>\n",
       "      <th>...</th>\n",
       "      <td>...</td>\n",
       "      <td>...</td>\n",
       "    </tr>\n",
       "    <tr>\n",
       "      <th>3110</th>\n",
       "      <td>netral</td>\n",
       "      <td>bukan saya yang tidak-mau merit sat ini hubung...</td>\n",
       "    </tr>\n",
       "    <tr>\n",
       "      <th>3111</th>\n",
       "      <td>netral</td>\n",
       "      <td>Baru lihat kabar Teman nge gosip dan penuh inf...</td>\n",
       "    </tr>\n",
       "    <tr>\n",
       "      <th>3112</th>\n",
       "      <td>netral</td>\n",
       "      <td>Mengubah kebiasaan seseorang yg kurang baik it...</td>\n",
       "    </tr>\n",
       "    <tr>\n",
       "      <th>3113</th>\n",
       "      <td>netral</td>\n",
       "      <td>nah diam lebih bagus yaudah saya diam saja deh...</td>\n",
       "    </tr>\n",
       "    <tr>\n",
       "      <th>3114</th>\n",
       "      <td>netral</td>\n",
       "      <td>Ya Allah, hanya Engkau yang mengetahui rasa sa...</td>\n",
       "    </tr>\n",
       "  </tbody>\n",
       "</table>\n",
       "<p>3115 rows × 2 columns</p>\n",
       "</div>"
      ],
      "text/plain": [
       "        label                                           komentar\n",
       "0     positif  Kepingin gudeg mbarek Bu hj. Amad Foto dari go...\n",
       "1     positif  Sharing pengalaman aja, kemarin jam 18.00 bata...\n",
       "2     positif  Sharing sama temen tuh emg guna bgt. Disaat lu...\n",
       "3     positif  sangat bersyukur bisa mendoakan kakeknya, Bung...\n",
       "4     positif  H-9. Mau ke bank rame bgt ampe antrian tempat ...\n",
       "...       ...                                                ...\n",
       "3110   netral  bukan saya yang tidak-mau merit sat ini hubung...\n",
       "3111   netral  Baru lihat kabar Teman nge gosip dan penuh inf...\n",
       "3112   netral  Mengubah kebiasaan seseorang yg kurang baik it...\n",
       "3113   netral  nah diam lebih bagus yaudah saya diam saja deh...\n",
       "3114   netral  Ya Allah, hanya Engkau yang mengetahui rasa sa...\n",
       "\n",
       "[3115 rows x 2 columns]"
      ]
     },
     "execution_count": 2,
     "metadata": {},
     "output_type": "execute_result"
    }
   ],
   "source": [
    "df = pd.read_excel(\"../dataset_twitter.xlsx\")\n",
    "df"
   ]
  },
  {
   "cell_type": "code",
   "execution_count": 3,
   "metadata": {},
   "outputs": [
    {
     "data": {
      "text/plain": [
       "negatif    1101\n",
       "positif    1017\n",
       "netral      997\n",
       "Name: label, dtype: int64"
      ]
     },
     "execution_count": 3,
     "metadata": {},
     "output_type": "execute_result"
    }
   ],
   "source": [
    "df['label'].value_counts()"
   ]
  },
  {
   "cell_type": "code",
   "execution_count": 4,
   "metadata": {},
   "outputs": [
    {
     "data": {
      "text/plain": [
       "0       [kepingin, gudeg, mbarek, bu, hj, amad, foto, ...\n",
       "1       [sharing, pengalaman, aja, kemarin, jam, batal...\n",
       "2       [sharing, sama, temen, tuh, emg, guna, bgt, di...\n",
       "3       [sangat, bersyukur, bisa, mendoakan, kakeknya,...\n",
       "4       [h, mau, ke, bank, rame, bgt, ampe, antrian, t...\n",
       "                              ...                        \n",
       "3110    [bukan, saya, yang, tidakmau, merit, sat, ini,...\n",
       "3111    [baru, lihat, kabar, teman, nge, gosip, dan, p...\n",
       "3112    [mengubah, kebiasaan, seseorang, yg, kurang, b...\n",
       "3113    [nah, diam, lebih, bagus, yaudah, saya, diam, ...\n",
       "3114    [ya, allah, hanya, engkau, yang, mengetahui, r...\n",
       "Name: komentar, Length: 3115, dtype: object"
      ]
     },
     "execution_count": 4,
     "metadata": {},
     "output_type": "execute_result"
    }
   ],
   "source": [
    "komentar = df['komentar'].astype(str)\n",
    "\n",
    "#Lower case\n",
    "komentar = komentar.apply(lambda x: x.lower())\n",
    "\n",
    "#Remove URL\n",
    "komentar = komentar.apply(lambda x: re.sub(r'^https?:\\/\\/.*[\\r\\n]*', '', x, flags=re.MULTILINE))\n",
    "\n",
    "#Remove Number\n",
    "komentar = komentar.apply(lambda x: re.sub(r\"\\d\", \"\", x))\n",
    "\n",
    "#Before Punctuation\n",
    "komentar = komentar.apply(lambda x: re.sub(r'(?<=[,.])(?=[^\\s])', r' ', x))\n",
    "\n",
    "#Punctuation\n",
    "komentar = komentar.apply(lambda x: x.translate(str.maketrans('', '', string.punctuation)))\n",
    "\n",
    "#Remove Non Alphanumeric\n",
    "komentar = komentar.apply(lambda x: re.sub(r'([^\\s\\w]|_)+', '', x))\n",
    "\n",
    "#Tokenizing\n",
    "komentar = komentar.apply(lambda x: nltk.tokenize.word_tokenize(x))\n",
    "\n",
    "komentar"
   ]
  },
  {
   "cell_type": "code",
   "execution_count": 5,
   "metadata": {},
   "outputs": [],
   "source": [
    "model_gensim = FT_gensim(size=300, \n",
    "                         negative=5, \n",
    "                         min_count=1, \n",
    "                         min_n=2, \n",
    "                         max_n=3, \n",
    "                         sg=0, \n",
    "                         sorted_vocab=1, \n",
    "                         word_ngrams=1, \n",
    "                         window=5, \n",
    "                         callbacks=(),\n",
    "                         ns_exponent=0.75, \n",
    "                         cbow_mean=0, \n",
    "                         workers=5, \n",
    "                         alpha=0.1, \n",
    "                         min_alpha=0.025)"
   ]
  },
  {
   "cell_type": "code",
   "execution_count": 6,
   "metadata": {},
   "outputs": [],
   "source": [
    "model_gensim.build_vocab(komentar)"
   ]
  },
  {
   "cell_type": "code",
   "execution_count": 7,
   "metadata": {},
   "outputs": [],
   "source": [
    "total_examples = model_gensim.corpus_count\n",
    "model_gensim.train(\n",
    "    sentences=komentar,\n",
    "    total_examples=total_examples, \n",
    "    epochs = 100\n",
    ")"
   ]
  },
  {
   "cell_type": "code",
   "execution_count": 8,
   "metadata": {},
   "outputs": [],
   "source": [
    "model_gensim.save('XGB.bin')\n",
    "loaded_model = FT_gensim.load('XGB.bin')"
   ]
  },
  {
   "cell_type": "code",
   "execution_count": 9,
   "metadata": {},
   "outputs": [
    {
     "data": {
      "text/plain": [
       "0.19848755"
      ]
     },
     "execution_count": 9,
     "metadata": {},
     "output_type": "execute_result"
    }
   ],
   "source": [
    "loaded_model.wv.similarity(\"bagus\", \"buruk\")"
   ]
  },
  {
   "cell_type": "code",
   "execution_count": 10,
   "metadata": {},
   "outputs": [
    {
     "data": {
      "text/plain": [
       "0.7029083371162415"
      ]
     },
     "execution_count": 10,
     "metadata": {},
     "output_type": "execute_result"
    }
   ],
   "source": [
    "loaded_model.wv.distance(\"bagus\", \"jelek\")"
   ]
  },
  {
   "cell_type": "code",
   "execution_count": 11,
   "metadata": {},
   "outputs": [
    {
     "data": {
      "text/plain": [
       "[('jek', 0.8707308769226074),\n",
       " ('jelekin', 0.8257787227630615),\n",
       " ('jele', 0.815099835395813),\n",
       " ('jeleknya', 0.8143316507339478),\n",
       " ('melek', 0.7795506715774536)]"
      ]
     },
     "execution_count": 11,
     "metadata": {},
     "output_type": "execute_result"
    }
   ],
   "source": [
    "loaded_model.wv.most_similar(positive=\"jelek\", topn=5)"
   ]
  },
  {
   "cell_type": "code",
   "execution_count": 12,
   "metadata": {},
   "outputs": [
    {
     "data": {
      "text/plain": [
       "[('agus', 0.9205594062805176),\n",
       " ('sebagus', 0.9130353927612305),\n",
       " ('bagusnya', 0.9100965857505798),\n",
       " ('bagusan', 0.9065378308296204),\n",
       " ('baguslah', 0.898527979850769)]"
      ]
     },
     "execution_count": 12,
     "metadata": {},
     "output_type": "execute_result"
    }
   ],
   "source": [
    "loaded_model.wv.most_similar_cosmul(positive=\"bagus\", negative=None, topn=5)"
   ]
  },
  {
   "cell_type": "code",
   "execution_count": 13,
   "metadata": {},
   "outputs": [
    {
     "data": {
      "text/plain": [
       "{'mantap': ['mantapp', 'mantapkan', 'mantan', 'mantanmantan', 'mangap'],\n",
       " 'keren': ['kemren', 'kmren', 'ken', 'kereboot', 'paytren'],\n",
       " 'bagus': ['agus', 'sebagus', 'bagusnya', 'bagusan', 'baguslah'],\n",
       " 'jelek': ['jek', 'jelekin', 'jele', 'jeleknya', 'melek'],\n",
       " 'parah': ['arah', 'terparah', 'searah', 'marah', 'parahnya'],\n",
       " 'cepat': ['cepatcepat', 'secepat', 'tepat', 'sepat', 'dipercepat']}"
      ]
     },
     "execution_count": 13,
     "metadata": {},
     "output_type": "execute_result"
    }
   ],
   "source": [
    "similar_words = {search_term: [item[0] for item in loaded_model.wv.most_similar([search_term], topn=5)]\n",
    "                for search_term in ['mantap', 'keren', 'bagus', 'jelek', 'parah', 'cepat']}\n",
    "similar_words"
   ]
  },
  {
   "cell_type": "code",
   "execution_count": 14,
   "metadata": {},
   "outputs": [
    {
     "data": {
      "image/png": "[encoded data removed]",
      "text/plain": [
       "<Figure size 1440x720 with 1 Axes>"
      ]
     },
     "metadata": {
      "needs_background": "light"
     },
     "output_type": "display_data"
    }
   ],
   "source": [
    "words = sum([[k] + v for k, v in similar_words.items()], [])\n",
    "wvs = loaded_model.wv[words]\n",
    "\n",
    "pca = PCA(n_components=2)\n",
    "np.set_printoptions(suppress=True)\n",
    "P = pca.fit_transform(wvs)\n",
    "labels = words\n",
    "\n",
    "plt.figure(figsize=(20, 10))\n",
    "plt.scatter(P[:, 0], P[:, 1], c='green', edgecolors='g')\n",
    "for label, x, y in zip(labels, P[:, 0], P[:, 1]):\n",
    "    plt.annotate(label, xy=(x+0.06, y+0.03), xytext=(0, 0), textcoords='offset points')"
   ]
  },
  {
   "cell_type": "code",
   "execution_count": null,
   "metadata": {},
   "outputs": [],
   "source": []
  }
 ],
 "metadata": {
  "kernelspec": {
   "display_name": "Python 3",
   "language": "python",
   "name": "python3"
  },
  "language_info": {
   "codemirror_mode": {
    "name": "ipython",
    "version": 3
   },
   "file_extension": ".py",
   "mimetype": "text/x-python",
   "name": "python",
   "nbconvert_exporter": "python",
   "pygments_lexer": "ipython3",
   "version": "3.7.6"
  }
 },
 "nbformat": 4,
 "nbformat_minor": 4
}