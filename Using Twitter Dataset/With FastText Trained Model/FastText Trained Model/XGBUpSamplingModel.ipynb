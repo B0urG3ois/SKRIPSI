{
 "cells": [
  {
   "cell_type": "code",
   "execution_count": 1,
   "metadata": {},
   "outputs": [
    {
     "name": "stderr",
     "output_type": "stream",
     "text": [
      "[nltk_data] Downloading package punkt to\n",
      "[nltk_data]     C:\\Users\\egapa\\AppData\\Roaming\\nltk_data...\n",
      "[nltk_data]   Package punkt is already up-to-date!\n"
     ]
    },
    {
     "data": {
      "text/plain": [
       "True"
      ]
     },
     "execution_count": 1,
     "metadata": {},
     "output_type": "execute_result"
    }
   ],
   "source": [
    "import string\n",
    "import re\n",
    "import numpy as np\n",
    "import pandas as pd\n",
    "import nltk\n",
    "import matplotlib.pyplot as plt\n",
    "import gensim \n",
    "\n",
    "from sklearn.decomposition import PCA\n",
    "from gensim.models import FastText as FT_gensim\n",
    "from gensim.test.utils import datapath\n",
    "from gensim.models.wrappers import FastText as FT\n",
    "from sklearn.model_selection import train_test_split\n",
    "from sklearn.utils import resample\n",
    "\n",
    "%matplotlib inline\n",
    "nltk.download('punkt')"
   ]
  },
  {
   "cell_type": "code",
   "execution_count": 2,
   "metadata": {},
   "outputs": [
    {
     "data": {
      "text/html": [
       "<div>\n",
       "<style scoped>\n",
       "    .dataframe tbody tr th:only-of-type {\n",
       "        vertical-align: middle;\n",
       "    }\n",
       "\n",
       "    .dataframe tbody tr th {\n",
       "        vertical-align: top;\n",
       "    }\n",
       "\n",
       "    .dataframe thead th {\n",
       "        text-align: right;\n",
       "    }\n",
       "</style>\n",
       "<table border=\"1\" class=\"dataframe\">\n",
       "  <thead>\n",
       "    <tr style=\"text-align: right;\">\n",
       "      <th></th>\n",
       "      <th>label</th>\n",
       "      <th>komentar</th>\n",
       "    </tr>\n",
       "  </thead>\n",
       "  <tbody>\n",
       "    <tr>\n",
       "      <th>0</th>\n",
       "      <td>positif</td>\n",
       "      <td>Kepingin gudeg mbarek Bu hj. Amad Foto dari go...</td>\n",
       "    </tr>\n",
       "    <tr>\n",
       "      <th>1</th>\n",
       "      <td>positif</td>\n",
       "      <td>Sharing pengalaman aja, kemarin jam 18.00 bata...</td>\n",
       "    </tr>\n",
       "    <tr>\n",
       "      <th>2</th>\n",
       "      <td>positif</td>\n",
       "      <td>Sharing sama temen tuh emg guna bgt. Disaat lu...</td>\n",
       "    </tr>\n",
       "    <tr>\n",
       "      <th>3</th>\n",
       "      <td>positif</td>\n",
       "      <td>sangat bersyukur bisa mendoakan kakeknya, Bung...</td>\n",
       "    </tr>\n",
       "    <tr>\n",
       "      <th>4</th>\n",
       "      <td>positif</td>\n",
       "      <td>H-9. Mau ke bank rame bgt ampe antrian tempat ...</td>\n",
       "    </tr>\n",
       "  </tbody>\n",
       "</table>\n",
       "</div>"
      ],
      "text/plain": [
       "     label                                           komentar\n",
       "0  positif  Kepingin gudeg mbarek Bu hj. Amad Foto dari go...\n",
       "1  positif  Sharing pengalaman aja, kemarin jam 18.00 bata...\n",
       "2  positif  Sharing sama temen tuh emg guna bgt. Disaat lu...\n",
       "3  positif  sangat bersyukur bisa mendoakan kakeknya, Bung...\n",
       "4  positif  H-9. Mau ke bank rame bgt ampe antrian tempat ..."
      ]
     },
     "execution_count": 2,
     "metadata": {},
     "output_type": "execute_result"
    }
   ],
   "source": [
    "df = pd.read_excel(\"../dataset_twitter.xlsx\")\n",
    "df.head()"
   ]
  },
  {
   "cell_type": "code",
   "execution_count": 3,
   "metadata": {},
   "outputs": [],
   "source": [
    "df_pos = df[df['label'] == 'positif']\n",
    "X_pos_text = df_pos['komentar']\n",
    "y_pos_label = df_pos['label']\n",
    "\n",
    "df_neg = df[df['label'] == 'negatif']\n",
    "X_neg_text = df_neg['komentar']\n",
    "y_neg_label = df_neg['label']\n",
    "\n",
    "df_net = df[df['label'] == 'netral']\n",
    "X_net_text = df_net['komentar']\n",
    "y_net_label = df_net['label']"
   ]
  },
  {
   "cell_type": "code",
   "execution_count": 4,
   "metadata": {},
   "outputs": [],
   "source": [
    "df_neg_up = resample(df_neg, replace=True, n_samples=int(len(df_pos)))\n",
    "df_net_up = resample(df_net, replace=True, n_samples=int(len(df_pos)))"
   ]
  },
  {
   "cell_type": "code",
   "execution_count": 5,
   "metadata": {},
   "outputs": [],
   "source": [
    "df = pd.concat([df_pos, df_neg_up])\n",
    "df = pd.concat([df, df_net_up])"
   ]
  },
  {
   "cell_type": "code",
   "execution_count": 6,
   "metadata": {},
   "outputs": [
    {
     "data": {
      "text/plain": [
       "negatif    1017\n",
       "positif    1017\n",
       "netral     1017\n",
       "Name: label, dtype: int64"
      ]
     },
     "execution_count": 6,
     "metadata": {},
     "output_type": "execute_result"
    }
   ],
   "source": [
    "df.label.value_counts()"
   ]
  },
  {
   "cell_type": "code",
   "execution_count": 7,
   "metadata": {},
   "outputs": [
    {
     "data": {
      "text/plain": [
       "0       [kepingin, gudeg, mbarek, bu, hj, amad, foto, ...\n",
       "1       [sharing, pengalaman, aja, kemarin, jam, batal...\n",
       "2       [sharing, sama, temen, tuh, emg, guna, bgt, di...\n",
       "3       [sangat, bersyukur, bisa, mendoakan, kakeknya,...\n",
       "4       [h, mau, ke, bank, rame, bgt, ampe, antrian, t...\n",
       "                              ...                        \n",
       "2344    [sumpahya, ngeliat, blekping, jd, pengen, puny...\n",
       "2368    [username, bener, final, keputusan, nya, juni,...\n",
       "3001    [ia, sudah, lama, kita, tidakngumpul, lagi, ha...\n",
       "2465    [malas, sekali, ya, dinas, malam, orang, tidur...\n",
       "2477    [sudah, panas, perih, gatal, yampun, parah, sa...\n",
       "Name: komentar, Length: 3051, dtype: object"
      ]
     },
     "execution_count": 7,
     "metadata": {},
     "output_type": "execute_result"
    }
   ],
   "source": [
    "komentar = df['komentar'].astype(str)\n",
    "\n",
    "# Huruf kecil\n",
    "komentar = komentar.apply(lambda x: x.lower())\n",
    "\n",
    "# Hapus URL\n",
    "komentar = komentar.apply(lambda x: re.sub(r'^https?:\\/\\/.*[\\r\\n]*', '', x, flags=re.MULTILINE))\n",
    "\n",
    "# Hapus angka\n",
    "komentar = komentar.apply(lambda x: re.sub(r\"\\d\", \"\", x))\n",
    "\n",
    "# Hapus tanda baca\n",
    "komentar = komentar.apply(lambda x: x.translate(str.maketrans('', '', string.punctuation)))\n",
    "\n",
    "# Hapus diluar alphabet dan numeric\n",
    "komentar = komentar.apply(lambda x: re.sub(r'([^\\s\\w]|_)+', '', x))\n",
    "\n",
    "# Tokenizing data\n",
    "komentar = komentar.apply(lambda x: nltk.tokenize.word_tokenize(x))\n",
    "\n",
    "komentar"
   ]
  },
  {
   "cell_type": "code",
   "execution_count": 8,
   "metadata": {},
   "outputs": [],
   "source": [
    "model_gensim = FT_gensim(size=300, \n",
    "                         negative=5, \n",
    "                         min_count=1, \n",
    "                         min_n=2, \n",
    "                         max_n=3, \n",
    "                         sg=0, \n",
    "                         sorted_vocab=1, \n",
    "                         word_ngrams=1, \n",
    "                         window=5, \n",
    "                         callbacks=(),\n",
    "                         ns_exponent=0.75, \n",
    "                         cbow_mean=0, \n",
    "                         workers=5, \n",
    "                         alpha=0.1, \n",
    "                         min_alpha=0.025)"
   ]
  },
  {
   "cell_type": "code",
   "execution_count": 9,
   "metadata": {},
   "outputs": [],
   "source": [
    "model_gensim.build_vocab(komentar)"
   ]
  },
  {
   "cell_type": "code",
   "execution_count": 10,
   "metadata": {},
   "outputs": [],
   "source": [
    "total_examples = model_gensim.corpus_count\n",
    "model_gensim.train(\n",
    "    sentences=komentar,\n",
    "    total_examples=total_examples, \n",
    "    epochs = 100\n",
    ")"
   ]
  },
  {
   "cell_type": "code",
   "execution_count": 11,
   "metadata": {},
   "outputs": [],
   "source": [
    "model_gensim.save('XGBUpSampling.bin')\n",
    "loaded_model = FT_gensim.load('XGBUpSampling.bin')"
   ]
  },
  {
   "cell_type": "code",
   "execution_count": 12,
   "metadata": {},
   "outputs": [
    {
     "data": {
      "text/plain": [
       "0.31497103"
      ]
     },
     "execution_count": 12,
     "metadata": {},
     "output_type": "execute_result"
    }
   ],
   "source": [
    "loaded_model.wv.similarity(\"bagus\", \"buruk\")"
   ]
  },
  {
   "cell_type": "code",
   "execution_count": 13,
   "metadata": {},
   "outputs": [
    {
     "data": {
      "text/plain": [
       "0.5677651464939117"
      ]
     },
     "execution_count": 13,
     "metadata": {},
     "output_type": "execute_result"
    }
   ],
   "source": [
    "loaded_model.wv.distance(\"bagus\", \"jelek\")"
   ]
  },
  {
   "cell_type": "code",
   "execution_count": 14,
   "metadata": {},
   "outputs": [
    {
     "data": {
      "text/plain": [
       "[('jeleknya', 0.8591362237930298),\n",
       " ('jelekin', 0.8489941358566284),\n",
       " ('jele', 0.8370342254638672),\n",
       " ('blek', 0.7358216047286987),\n",
       " ('ojek', 0.7331792116165161)]"
      ]
     },
     "execution_count": 14,
     "metadata": {},
     "output_type": "execute_result"
    }
   ],
   "source": [
    "loaded_model.wv.most_similar(positive=\"jelek\", topn=5)"
   ]
  },
  {
   "cell_type": "code",
   "execution_count": 15,
   "metadata": {},
   "outputs": [
    {
     "data": {
      "text/plain": [
       "[('agus', 0.933958888053894),\n",
       " ('sebagus', 0.9253098964691162),\n",
       " ('baguslah', 0.9220144152641296),\n",
       " ('bagusnya', 0.9103859066963196),\n",
       " ('bagusan', 0.9041281342506409)]"
      ]
     },
     "execution_count": 15,
     "metadata": {},
     "output_type": "execute_result"
    }
   ],
   "source": [
    "loaded_model.wv.most_similar_cosmul(positive=\"bagus\", negative=None, topn=5)"
   ]
  },
  {
   "cell_type": "code",
   "execution_count": 16,
   "metadata": {},
   "outputs": [
    {
     "data": {
      "text/plain": [
       "{'mantap': ['mantapp', 'mantapkan', 'mantan', 'mantanmantan', 'mantab'],\n",
       " 'keren': ['kemren', 'kemaren', 'ken', 'kmren', 'kereta'],\n",
       " 'bagus': ['agus', 'sebagus', 'baguslah', 'bagusnya', 'bagusan'],\n",
       " 'jelek': ['jeleknya', 'jelekin', 'jele', 'blek', 'ojek'],\n",
       " 'parah': ['parahnya', 'parahu', 'arah', 'para', 'separah'],\n",
       " 'cepat': ['secepat', 'tepat', 'sepat', 'concept', 'dipercepat']}"
      ]
     },
     "execution_count": 16,
     "metadata": {},
     "output_type": "execute_result"
    }
   ],
   "source": [
    "similar_words = {search_term: [item[0] for item in loaded_model.wv.most_similar([search_term], topn=5)]\n",
    "                for search_term in ['mantap', 'keren', 'bagus', 'jelek', 'parah', 'cepat']}\n",
    "similar_words"
   ]
  },
  {
   "cell_type": "code",
   "execution_count": 17,
   "metadata": {},
   "outputs": [
    {
     "data": {
      "image/png": "[encoded data removed]",
      "text/plain": [
       "<Figure size 1440x720 with 1 Axes>"
      ]
     },
     "metadata": {
      "needs_background": "light"
     },
     "output_type": "display_data"
    }
   ],
   "source": [
    "words = sum([[k] + v for k, v in similar_words.items()], [])\n",
    "wvs = loaded_model.wv[words]\n",
    "\n",
    "pca = PCA(n_components=2)\n",
    "np.set_printoptions(suppress=True)\n",
    "P = pca.fit_transform(wvs)\n",
    "labels = words\n",
    "\n",
    "plt.figure(figsize=(20, 10))\n",
    "plt.scatter(P[:, 0], P[:, 1], c='green', edgecolors='g')\n",
    "for label, x, y in zip(labels, P[:, 0], P[:, 1]):\n",
    "    plt.annotate(label, xy=(x+0.06, y+0.03), xytext=(0, 0), textcoords='offset points')"
   ]
  },
  {
   "cell_type": "code",
   "execution_count": null,
   "metadata": {},
   "outputs": [],
   "source": []
  }
 ],
 "metadata": {
  "kernelspec": {
   "display_name": "Python 3",
   "language": "python",
   "name": "python3"
  },
  "language_info": {
   "codemirror_mode": {
    "name": "ipython",
    "version": 3
   },
   "file_extension": ".py",
   "mimetype": "text/x-python",
   "name": "python",
   "nbconvert_exporter": "python",
   "pygments_lexer": "ipython3",
   "version": "3.7.6"
  }
 },
 "nbformat": 4,
 "nbformat_minor": 4
}
